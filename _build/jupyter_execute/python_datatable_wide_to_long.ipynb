{
 "cells": [
  {
   "cell_type": "markdown",
   "metadata": {},
   "source": [
    "# Reshaping Data From Wide to Long Form"
   ]
  },
  {
   "cell_type": "markdown",
   "metadata": {},
   "source": [
    "This article highlights various ways to reshape data from wide to long form in python [datatable](https://datatable.readthedocs.io/en/latest/)."
   ]
  },
  {
   "cell_type": "markdown",
   "metadata": {},
   "source": [
    "## **Selecting Columns**"
   ]
  },
  {
   "cell_type": "markdown",
   "metadata": {
    "execution": {
     "iopub.execute_input": "2020-10-31T01:26:23.474681Z",
     "iopub.status.busy": "2020-10-31T01:26:23.474464Z",
     "iopub.status.idle": "2020-10-31T01:26:23.477682Z",
     "shell.execute_reply": "2020-10-31T01:26:23.477047Z",
     "shell.execute_reply.started": "2020-10-31T01:26:23.474658Z"
    }
   },
   "source": [
    "### The Basics"
   ]
  },
  {
   "cell_type": "code",
   "execution_count": 1,
   "metadata": {},
   "outputs": [
    {
     "data": {
      "text/html": [
       "<style type='text/css'>\n",
       ".datatable table.frame { margin-bottom: 0; }\n",
       ".datatable table.frame thead { border-bottom: none; }\n",
       ".datatable table.frame tr.coltypes td {  color: #FFFFFF;  line-height: 6px;  padding: 0 0.5em;}\n",
       ".datatable .bool    { background: #DDDD99; }\n",
       ".datatable .object  { background: #565656; }\n",
       ".datatable .int     { background: #5D9E5D; }\n",
       ".datatable .float   { background: #4040CC; }\n",
       ".datatable .str     { background: #CC4040; }\n",
       ".datatable .time    { background: #40CC40; }\n",
       ".datatable .row_index {  background: var(--jp-border-color3);  border-right: 1px solid var(--jp-border-color0);  color: var(--jp-ui-font-color3);  font-size: 9px;}\n",
       ".datatable .frame tbody td { text-align: left; }\n",
       ".datatable .frame tr.coltypes .row_index {  background: var(--jp-border-color0);}\n",
       ".datatable th:nth-child(2) { padding-left: 12px; }\n",
       ".datatable .hellipsis {  color: var(--jp-cell-editor-border-color);}\n",
       ".datatable .vellipsis {  background: var(--jp-layout-color0);  color: var(--jp-cell-editor-border-color);}\n",
       ".datatable .na {  color: var(--jp-cell-editor-border-color);  font-size: 80%;}\n",
       ".datatable .sp {  opacity: 0.25;}\n",
       ".datatable .footer { font-size: 9px; }\n",
       ".datatable .frame_dimensions {  background: var(--jp-border-color3);  border-top: 1px solid var(--jp-border-color0);  color: var(--jp-ui-font-color3);  display: inline-block;  opacity: 0.6;  padding: 1px 10px 1px 5px;}\n",
       "</style>\n"
      ],
      "text/plain": [
       "<IPython.core.display.HTML object>"
      ]
     },
     "metadata": {},
     "output_type": "display_data"
    }
   ],
   "source": [
    "from datatable import dt, f, Type\n",
    "from typing import Pattern, NamedTuple, Union\n",
    "from collections import Counter, defaultdict\n",
    "from itertools import compress, chain\n",
    "import re\n",
    "import numpy as np\n",
    "import pandas as pd\n",
    "\n"
   ]
  },
  {
   "cell_type": "code",
   "execution_count": 2,
   "metadata": {},
   "outputs": [],
   "source": [
    "from datatable import dt, f\n",
    "from typing import Pattern, NamedTuple, Union\n",
    "from collections import Counter, defaultdict\n",
    "from itertools import compress, chain\n",
    "import re\n",
    "import numpy as np\n",
    "\n",
    "class measure(NamedTuple):\n",
    "    \"\"\"tuple for more complex reshape.\"\"\"\n",
    "    column_names:Union[str, list]\n",
    "    sep:Union[str, Pattern] = None\n",
    "    pattern:Union[str, Pattern] = None\n",
    "\n",
    "def melt(data, id_vars=None, measure_vars=None, variable_name = 'variable', value_name = 'value'):\n",
    "    \"Turns Frame from wide to long form.\"\n",
    "    if id_vars:\n",
    "        if not isinstance(id_vars, (str, list, tuple)):\n",
    "            raise TypeError('id_vars should be one of str, list, tuple.')\n",
    "        if isinstance(id_vars, str):\n",
    "            id_vars = [id_vars]\n",
    "        checks = set(id_vars).difference(data.names)\n",
    "        if checks:\n",
    "            raise ValueError(f'Labels {checks} in id_vars do not exist in the column names.')\n",
    "        if not set(data.names).difference(id_vars):\n",
    "            return data\n",
    "        checks = [key for key,value in Counter(id_vars).items() if value > 1]\n",
    "        if checks:\n",
    "            raise ValueError(f\"Labels {checks} are duplicated in id_vars.\")\n",
    "        if not measure_vars:\n",
    "            measure_vars = [name for name in data.names if name not in id_vars]\n",
    "    if measure_vars:\n",
    "        if not isinstance(measure_vars, (str, list, tuple)):\n",
    "            raise TypeError('measure_vars should be one of str, list, tuple.')\n",
    "        if isinstance(measure_vars, str):\n",
    "            measure_vars = [measure_vars]\n",
    "        checks = set(measure_vars).difference(data.names)\n",
    "        if checks:\n",
    "            raise ValueError(f'Labels {checks} in measure_vars do not exist in the column names.')\n",
    "        checks = [key for key,value in Counter(measure_vars).items() if value > 1]\n",
    "        if checks:\n",
    "            raise ValueError(f\"Labels {checks} are duplicated in measure_vars.\")\n",
    "        if (not id_vars) and (len(measure_vars) < data.ncols):\n",
    "            id_vars = [name for name in data.names if name not in measure_vars]\n",
    "    else:\n",
    "        measure_vars = data.names\n",
    "\n",
    "    def reshape_no_dot(measure_vars, output, data, id_vars=None):\n",
    "        values = []\n",
    "        for frame in data[:, measure_vars]:\n",
    "            frame.names = [value_name]\n",
    "            values.append(frame)\n",
    "        values = dt.rbind(values, force=True)\n",
    "        if id_vars:\n",
    "            id_vars = dt.repeat(data[:, id_vars], len(measure_vars))\n",
    "            return dt.cbind([id_vars, output, values], force = True)\n",
    "        return dt.cbind([output, values], force = True)\n",
    "\n",
    "    def reshape_dot(column_names, data, measure_vars, output, id_vars=None):\n",
    "        \"reshape if '.value' is present in the column names.\"\n",
    "        boolean = [True if ent == '.value' else False for ent in column_names]\n",
    "        dot_value = [[*compress(extract, boolean)] for extract in output]\n",
    "        if len(dot_value[0]) > 1:\n",
    "            dot_value = [\"\".join(extract) for extract in dot_value]\n",
    "        else:\n",
    "            dot_value = [*chain.from_iterable(dot_value)]\n",
    "        checks = set(dot_value)\n",
    "        if id_vars and checks.intersection(id_vars):\n",
    "            raise ValueError(\n",
    "                f\"The new column names associated with .value -> {checks} \"\n",
    "                \"are duplicated in id_vars.\"\n",
    "            )\n",
    "        boolean = [not true for true in boolean]\n",
    "        others = [tuple(compress(extract, boolean)) for extract in output]\n",
    "        headers_for_others = [extract for extract in column_names if extract != '.value']\n",
    "        measure_vars = [frame for frame in data[:, measure_vars]]\n",
    "        out = defaultdict(list)\n",
    "        for key, value_column, frame in zip(others, dot_value, measure_vars):\n",
    "            frame.names = [value_column]\n",
    "            out[key].append(frame)\n",
    "        headers_for_others = [dt.Frame([key], names = headers_for_others) for key, _ in out.items()]\n",
    "        out = [dt.cbind(frame, force = True) for _, frame in out.items()]\n",
    "        out = [dt.cbind(dt.repeat(left, right.nrows), right, force = True) for left, right in zip(headers_for_others, out)]\n",
    "        out = dt.rbind(out, force = True)\n",
    "        if id_vars:\n",
    "            id_vars = dt.repeat(data[:, id_vars], out.nrows//data.nrows)\n",
    "            return dt.cbind([id_vars, out], force = True)\n",
    "        return out\n",
    "\n",
    "    if not isinstance(variable_name, (str, tuple, dict, Pattern)):\n",
    "        raise TypeError('variable_name should be one of string, tuple, dictionary, regular expression.')\n",
    "\n",
    "    if isinstance(variable_name, str):\n",
    "        if not isinstance(value_name, str):\n",
    "            raise TypeError('value_name should be a string.')\n",
    "        if value_name == variable_name:\n",
    "            raise ValueError(\n",
    "                f\"{value_name} is duplicated as variable_name. \"\n",
    "                f\"Kindly provide a unique argument for {value_name}.\")\n",
    "        if id_vars: \n",
    "            if variable_name in id_vars:\n",
    "                raise ValueError(\n",
    "                    f\"{variable_name} already exists as a label \"\n",
    "                    \"in id_vars. Kindly provide a unique argument.\")\n",
    "            if value_name in id_vars:\n",
    "                raise ValueError(\n",
    "                    f\"{value_name} already exists as a label \"\n",
    "                    \"in id_vars. Kindly provide a unique argument.\")\n",
    "\n",
    "        output = dt.Frame({variable_name:measure_vars})\n",
    "        output = output[np.repeat(range(output.nrows), data.nrows),:]\n",
    "        return reshape_no_dot(measure_vars=measure_vars, output = output, data = data, id_vars = id_vars)\n",
    "\n",
    "\n",
    "    if isinstance(variable_name, Pattern):\n",
    "        if not re.compile(variable_name).groups:\n",
    "            raise ValueError(\"The regex should have at least one group.\")\n",
    "        output = [re.search(variable_name, word) for word in measure_vars]\n",
    "        no_matches = [word for word, match in zip(measure_vars, output) if not match]\n",
    "        if no_matches:\n",
    "            raise ValueError(\n",
    "                f\"There was no match for labels {no_matches} \"\n",
    "                \"for the provided regular expression.\")\n",
    "        output = [entry.groupdict() for entry in output]\n",
    "        checks = output[0].keys()\n",
    "        if id_vars and set(checks).intersection(id_vars):\n",
    "            raise ValueError(\n",
    "                f\"Labels {checks} already exist in id_vars. \"\n",
    "                \"Kindly provide unique names for the named groups \" \n",
    "                \"in the regular expression.\"\n",
    "                )\n",
    "        output = dt.Frame(output)\n",
    "        output = output[np.repeat(range(output.nrows), data.nrows),:]        \n",
    "        return reshape_no_dot(measure_vars=measure_vars, output = output, data = data, id_vars = id_vars)\n",
    "\n",
    "    if isinstance(variable_name, dict) :\n",
    "        checks = set(variable_name).intersection(id_vars)\n",
    "        if id_vars and checks:\n",
    "            raise ValueError(\n",
    "                f\"Labels {checks} already exist in id_vars. \"\n",
    "                \"Kindly provide keys for the dictionary \"\n",
    "                \"that do not exist in id_vars.\"\n",
    "                )\n",
    "        for key, regex in variable_name.items():\n",
    "            if not isinstance(key, str):\n",
    "                raise TypeError(f\"{key} should be a string.\")\n",
    "            if not isinstance(regex, (str, Pattern)):\n",
    "                raise TypeError(\n",
    "                    f\"The value for {key} should be a regular expression, \"\n",
    "                    \"or can be compiled into one.\"\n",
    "                    )\n",
    "            if re.compile(regex).groups:\n",
    "                raise ValueError(\"The regex should not have any groups.\")\n",
    "        output = []\n",
    "        for key, regex in variable_name.items():\n",
    "            out = [word for word in measure_vars if re.search(regex, word)]\n",
    "            if not out:\n",
    "                raise ValueError(\n",
    "                    f\"There was no match for {key} for regex => {regex}\"\n",
    "                )            \n",
    "            \n",
    "            measure_vars = [word for word in measure_vars if word not in out]\n",
    "            if len(out) == 1:\n",
    "                frame.names = [key]\n",
    "                output.append(frame)\n",
    "            else:\n",
    "                values = []\n",
    "                for frame in data[:, out]:\n",
    "                    frame.names = [key]\n",
    "                    values.append(frame)\n",
    "                output.append(dt.rbind(values, force = True))\n",
    "        output = dt.cbind(output, force=True)\n",
    "        if id_vars:\n",
    "            id_vars = dt.repeat(data[:, id_vars], output.nrows//data.nrows)\n",
    "            return dt.cbind([id_vars, output])\n",
    "        return output\n",
    "          \n",
    "    if isinstance(variable_name, tuple):\n",
    "        variable_name = measure(*variable_name)\n",
    "        column_names, sep, pattern = variable_name\n",
    "        if not column_names:\n",
    "            raise ValueError(\"Kindly provide argument for column_names, in the variable_name tuple.\")\n",
    "        if not isinstance(column_names, (str, list)):\n",
    "            raise TypeError('column_names should be one of string, list.')\n",
    "        if isinstance(column_names, str):\n",
    "            column_names = [column_names]\n",
    "        if id_vars:\n",
    "            checks = set(column_names)\n",
    "            checks.discard(\".value\")\n",
    "            checks = checks.intersection(id_vars)\n",
    "            if checks:\n",
    "                raise ValueError(\n",
    "                    f\"Labels {checks} already exist in id_vars. \"\n",
    "                    \"Kindly provide unique column_names \"\n",
    "                    \"that do not exist in id_vars.\"\n",
    "                    )\n",
    "        if not any((sep, pattern)):\n",
    "            raise ValueError(\"Kindly provide one of sep or pattern.\")\n",
    "        if sep and pattern:\n",
    "            raise ValueError(\"only one of sep or pattern should be provided.\")\n",
    "        if sep:\n",
    "            if not isinstance(sep, (str, Pattern)):\n",
    "                raise TypeError(\n",
    "                    \"sep should be a regular expression, \"\n",
    "                    \"or can be compiled into one.\")\n",
    "            output = [re.split(sep, word) for word in measure_vars]\n",
    "            checks = max(map(len, output))\n",
    "            if len(column_names) != checks:\n",
    "                raise ValueError(\n",
    "                    f\"The maximum number of splits for sep -> {sep} is {checks} \"\n",
    "                    f\"while the number of labels in {column_names} \"\n",
    "                    f\"is {len(column_names)}\"\n",
    "                )\n",
    "            if '.value' not in column_names:\n",
    "                output = [*map(tuple, output)]\n",
    "                output = dt.Frame(output, names=column_names)\n",
    "                output = output[np.repeat(range(output.nrows), data.nrows),:]        \n",
    "                return reshape_no_dot(measure_vars=measure_vars, output = output, data = data, id_vars = id_vars)\n",
    "\n",
    "            return reshape_dot(column_names, data, measure_vars, output, id_vars=id_vars)\n",
    "\n",
    "        if pattern:\n",
    "            if not isinstance(pattern, (str, Pattern)):\n",
    "                raise TypeError(\n",
    "                    \"pattern should be a regular expression, \"\n",
    "                    \"or can be compiled into one.\")\n",
    "            checks = re.compile(pattern).groups\n",
    "            if not checks:\n",
    "                raise ValueError(\"The regex should have at least one group.\")\n",
    "            if checks != len(column_names):\n",
    "                raise ValueError(\n",
    "                    \"The number of groups in the regex \"\n",
    "                    \"should match the number of labels in column_names. \"\n",
    "                    f\"The number of groups in the regex is {len(checks)}, \"\n",
    "                    f\"while the length of column_names is {len(column_names)}\")\n",
    "            output = [re.findall(pattern, word) for word in measure_vars]\n",
    "            no_matches = [word for word, match in zip(measure_vars, output) if not match]\n",
    "            if no_matches:\n",
    "                raise ValueError(\n",
    "                    f\"There was no match for labels {no_matches} \"\n",
    "                    \"for the provided regular expression.\")\n",
    "            output = [*chain.from_iterable(output)]\n",
    "            if '.value' not in column_names:\n",
    "                output = [*map(tuple, output)]\n",
    "                output = dt.Frame(output, names=column_names)\n",
    "                output = output[np.repeat(range(output.nrows), data.nrows),:]        \n",
    "                return reshape_no_dot(measure_vars=measure_vars, output = output, data = data, id_vars = id_vars)\n",
    "\n",
    "            return reshape_dot(column_names, data, measure_vars, output, id_vars=id_vars)\n",
    "\n"
   ]
  },
  {
   "cell_type": "code",
   "execution_count": 3,
   "metadata": {},
   "outputs": [
    {
     "data": {
      "text/html": [
       "<div class='datatable'>\n",
       "  <table class='frame'>\n",
       "  <thead>\n",
       "    <tr class='colnames'><td class='row_index'></td><th>ID</th><th>DateRange1Start</th><th>DateRange1End</th><th>Value1</th><th>DateRange2Start</th><th>DateRange2End</th><th>Value2</th><th>DateRange3Start</th><th>DateRange3End</th><th>Value3</th></tr>\n",
       "    <tr class='coltypes'><td class='row_index'></td><td class='int' title='int8'>&#x25AA;</td><td class='str' title='str32'>&#x25AA;&#x25AA;&#x25AA;&#x25AA;</td><td class='str' title='str32'>&#x25AA;&#x25AA;&#x25AA;&#x25AA;</td><td class='float' title='float64'>&#x25AA;&#x25AA;&#x25AA;&#x25AA;&#x25AA;&#x25AA;&#x25AA;&#x25AA;</td><td class='str' title='str32'>&#x25AA;&#x25AA;&#x25AA;&#x25AA;</td><td class='str' title='str32'>&#x25AA;&#x25AA;&#x25AA;&#x25AA;</td><td class='float' title='float64'>&#x25AA;&#x25AA;&#x25AA;&#x25AA;&#x25AA;&#x25AA;&#x25AA;&#x25AA;</td><td class='str' title='str32'>&#x25AA;&#x25AA;&#x25AA;&#x25AA;</td><td class='str' title='str32'>&#x25AA;&#x25AA;&#x25AA;&#x25AA;</td><td class='float' title='float64'>&#x25AA;&#x25AA;&#x25AA;&#x25AA;&#x25AA;&#x25AA;&#x25AA;&#x25AA;</td></tr>\n",
       "  </thead>\n",
       "  <tbody>\n",
       "    <tr><td class='row_index'>0</td><td>1</td><td>1/1/90</td><td>3/1/90</td><td>4.4</td><td>4/5/91</td><td>6/7/91</td><td>6.2</td><td>5/5/95</td><td>6/6/96</td><td>3.3</td></tr>\n",
       "  </tbody>\n",
       "  </table>\n",
       "  <div class='footer'>\n",
       "    <div class='frame_dimensions'>1 row &times; 10 columns</div>\n",
       "  </div>\n",
       "</div>\n"
      ],
      "text/plain": [
       "<Frame#111bbbfc0 1x10>"
      ]
     },
     "execution_count": 3,
     "metadata": {},
     "output_type": "execute_result"
    }
   ],
   "source": [
    "DT = dt.Frame(\n",
    "            [\n",
    "                {\n",
    "                    \"ID\": 1,\n",
    "                    \"DateRange1Start\": \"1/1/90\",\n",
    "                    \"DateRange1End\": \"3/1/90\",\n",
    "                    \"Value1\": 4.4,\n",
    "                    \"DateRange2Start\": \"4/5/91\",\n",
    "                    \"DateRange2End\": \"6/7/91\",\n",
    "                    \"Value2\": 6.2,\n",
    "                    \"DateRange3Start\": \"5/5/95\",\n",
    "                    \"DateRange3End\": \"6/6/96\",\n",
    "                    \"Value3\": 3.3,\n",
    "                }\n",
    "            ])\n",
    "\n",
    "DT"
   ]
  },
  {
   "cell_type": "code",
   "execution_count": 4,
   "metadata": {},
   "outputs": [
    {
     "data": {
      "text/html": [
       "<div class='datatable'>\n",
       "  <table class='frame'>\n",
       "  <thead>\n",
       "    <tr class='colnames'><td class='row_index'></td><th>ID</th><th>num</th><th>DateRangeStart</th><th>DateRangeEnd</th><th>Value</th></tr>\n",
       "    <tr class='coltypes'><td class='row_index'></td><td class='int' title='int8'>&#x25AA;</td><td class='str' title='str32'>&#x25AA;&#x25AA;&#x25AA;&#x25AA;</td><td class='str' title='str32'>&#x25AA;&#x25AA;&#x25AA;&#x25AA;</td><td class='str' title='str32'>&#x25AA;&#x25AA;&#x25AA;&#x25AA;</td><td class='float' title='float64'>&#x25AA;&#x25AA;&#x25AA;&#x25AA;&#x25AA;&#x25AA;&#x25AA;&#x25AA;</td></tr>\n",
       "  </thead>\n",
       "  <tbody>\n",
       "    <tr><td class='row_index'>0</td><td>1</td><td>1</td><td>1/1/90</td><td>3/1/90</td><td>4.4</td></tr>\n",
       "    <tr><td class='row_index'>1</td><td>1</td><td>2</td><td>4/5/91</td><td>6/7/91</td><td>6.2</td></tr>\n",
       "    <tr><td class='row_index'>2</td><td>1</td><td>3</td><td>5/5/95</td><td>6/6/96</td><td>3.3</td></tr>\n",
       "  </tbody>\n",
       "  </table>\n",
       "  <div class='footer'>\n",
       "    <div class='frame_dimensions'>3 rows &times; 5 columns</div>\n",
       "  </div>\n",
       "</div>\n"
      ],
      "text/plain": [
       "<Frame#115468630 3x5>"
      ]
     },
     "execution_count": 4,
     "metadata": {},
     "output_type": "execute_result"
    }
   ],
   "source": [
    "melt(DT, id_vars='ID', variable_name= (['.value', 'num', '.value'], None, '(.+)(\\d)(.*)'))"
   ]
  },
  {
   "cell_type": "code",
   "execution_count": 5,
   "metadata": {},
   "outputs": [
    {
     "data": {
      "text/html": [
       "<div class='datatable'>\n",
       "  <table class='frame'>\n",
       "  <thead>\n",
       "    <tr class='colnames'><td class='row_index'></td><th>id</th><th>M_start_date_1</th><th>M_end_date_1</th><th>M_start_date_2</th><th>M_end_date_2</th><th>F_start_date_1</th><th>F_end_date_1</th><th>F_start_date_2</th><th>F_end_date_2</th></tr>\n",
       "    <tr class='coltypes'><td class='row_index'></td><td class='int' title='int32'>&#x25AA;&#x25AA;&#x25AA;&#x25AA;</td><td class='int' title='int32'>&#x25AA;&#x25AA;&#x25AA;&#x25AA;</td><td class='int' title='int32'>&#x25AA;&#x25AA;&#x25AA;&#x25AA;</td><td class='int' title='int32'>&#x25AA;&#x25AA;&#x25AA;&#x25AA;</td><td class='int' title='int32'>&#x25AA;&#x25AA;&#x25AA;&#x25AA;</td><td class='int' title='int32'>&#x25AA;&#x25AA;&#x25AA;&#x25AA;</td><td class='int' title='int32'>&#x25AA;&#x25AA;&#x25AA;&#x25AA;</td><td class='int' title='int32'>&#x25AA;&#x25AA;&#x25AA;&#x25AA;</td><td class='int' title='int32'>&#x25AA;&#x25AA;&#x25AA;&#x25AA;</td></tr>\n",
       "  </thead>\n",
       "  <tbody>\n",
       "    <tr><td class='row_index'>0</td><td>1</td><td>201709</td><td>201905</td><td>202004</td><td>202005</td><td>201803</td><td>201904</td><td>201912</td><td>202007</td></tr>\n",
       "    <tr><td class='row_index'>1</td><td>2</td><td>201709</td><td>201905</td><td>202004</td><td>202005</td><td>201803</td><td>201904</td><td>201912</td><td>202007</td></tr>\n",
       "    <tr><td class='row_index'>2</td><td>3</td><td>201709</td><td>201905</td><td>202004</td><td>202005</td><td>201803</td><td>201904</td><td>201912</td><td>202007</td></tr>\n",
       "  </tbody>\n",
       "  </table>\n",
       "  <div class='footer'>\n",
       "    <div class='frame_dimensions'>3 rows &times; 9 columns</div>\n",
       "  </div>\n",
       "</div>\n"
      ],
      "text/plain": [
       "<Frame#1154780c0 3x9>"
      ]
     },
     "execution_count": 5,
     "metadata": {},
     "output_type": "execute_result"
    }
   ],
   "source": [
    "DT = dt.Frame(\n",
    "        {\n",
    "            \"id\": [1, 2, 3],\n",
    "            \"M_start_date_1\": [201709, 201709, 201709],\n",
    "            \"M_end_date_1\": [201905, 201905, 201905],\n",
    "            \"M_start_date_2\": [202004, 202004, 202004],\n",
    "            \"M_end_date_2\": [202005, 202005, 202005],\n",
    "            \"F_start_date_1\": [201803, 201803, 201803],\n",
    "            \"F_end_date_1\": [201904, 201904, 201904],\n",
    "            \"F_start_date_2\": [201912, 201912, 201912],\n",
    "            \"F_end_date_2\": [202007, 202007, 202007],\n",
    "        }\n",
    "    )\n",
    "\n",
    "DT"
   ]
  },
  {
   "cell_type": "code",
   "execution_count": 6,
   "metadata": {},
   "outputs": [
    {
     "data": {
      "text/html": [
       "<div class='datatable'>\n",
       "  <table class='frame'>\n",
       "  <thead>\n",
       "    <tr class='colnames'><td class='row_index'></td><th>id</th><th>cod</th><th>date</th><th>num</th><th>start</th><th>end</th></tr>\n",
       "    <tr class='coltypes'><td class='row_index'></td><td class='int' title='int32'>&#x25AA;&#x25AA;&#x25AA;&#x25AA;</td><td class='str' title='str32'>&#x25AA;&#x25AA;&#x25AA;&#x25AA;</td><td class='str' title='str32'>&#x25AA;&#x25AA;&#x25AA;&#x25AA;</td><td class='str' title='str32'>&#x25AA;&#x25AA;&#x25AA;&#x25AA;</td><td class='int' title='int32'>&#x25AA;&#x25AA;&#x25AA;&#x25AA;</td><td class='int' title='int32'>&#x25AA;&#x25AA;&#x25AA;&#x25AA;</td></tr>\n",
       "  </thead>\n",
       "  <tbody>\n",
       "    <tr><td class='row_index'>0</td><td>1</td><td>M</td><td>date</td><td>1</td><td>201709</td><td>201905</td></tr>\n",
       "    <tr><td class='row_index'>1</td><td>2</td><td>M</td><td>date</td><td>1</td><td>201709</td><td>201905</td></tr>\n",
       "    <tr><td class='row_index'>2</td><td>3</td><td>M</td><td>date</td><td>1</td><td>201709</td><td>201905</td></tr>\n",
       "    <tr><td class='row_index'>3</td><td>1</td><td>M</td><td>date</td><td>2</td><td>202004</td><td>202005</td></tr>\n",
       "    <tr><td class='row_index'>4</td><td>2</td><td>M</td><td>date</td><td>2</td><td>202004</td><td>202005</td></tr>\n",
       "    <tr><td class='row_index'>5</td><td>3</td><td>M</td><td>date</td><td>2</td><td>202004</td><td>202005</td></tr>\n",
       "    <tr><td class='row_index'>6</td><td>1</td><td>F</td><td>date</td><td>1</td><td>201803</td><td>201904</td></tr>\n",
       "    <tr><td class='row_index'>7</td><td>2</td><td>F</td><td>date</td><td>1</td><td>201803</td><td>201904</td></tr>\n",
       "    <tr><td class='row_index'>8</td><td>3</td><td>F</td><td>date</td><td>1</td><td>201803</td><td>201904</td></tr>\n",
       "    <tr><td class='row_index'>9</td><td>1</td><td>F</td><td>date</td><td>2</td><td>201912</td><td>202007</td></tr>\n",
       "    <tr><td class='row_index'>10</td><td>2</td><td>F</td><td>date</td><td>2</td><td>201912</td><td>202007</td></tr>\n",
       "    <tr><td class='row_index'>11</td><td>3</td><td>F</td><td>date</td><td>2</td><td>201912</td><td>202007</td></tr>\n",
       "  </tbody>\n",
       "  </table>\n",
       "  <div class='footer'>\n",
       "    <div class='frame_dimensions'>12 rows &times; 6 columns</div>\n",
       "  </div>\n",
       "</div>\n"
      ],
      "text/plain": [
       "<Frame#111b982d0 12x6>"
      ]
     },
     "execution_count": 6,
     "metadata": {},
     "output_type": "execute_result"
    }
   ],
   "source": [
    "melt(DT, id_vars='id', variable_name=([\"cod\", \".value\", \"date\", \"num\"], None, \"(M|F)_(start|end)_(date)_(.+)\"))"
   ]
  },
  {
   "cell_type": "code",
   "execution_count": 7,
   "metadata": {},
   "outputs": [
    {
     "data": {
      "text/html": [
       "<div class='datatable'>\n",
       "  <table class='frame'>\n",
       "  <thead>\n",
       "    <tr class='colnames'><td class='row_index'></td><th>off_loc</th><th>pt_loc</th><th>pt_lat</th><th>off_lat</th><th>pt_long</th><th>off_long</th></tr>\n",
       "    <tr class='coltypes'><td class='row_index'></td><td class='str' title='str32'>&#x25AA;&#x25AA;&#x25AA;&#x25AA;</td><td class='str' title='str32'>&#x25AA;&#x25AA;&#x25AA;&#x25AA;</td><td class='float' title='float64'>&#x25AA;&#x25AA;&#x25AA;&#x25AA;&#x25AA;&#x25AA;&#x25AA;&#x25AA;</td><td class='float' title='float64'>&#x25AA;&#x25AA;&#x25AA;&#x25AA;&#x25AA;&#x25AA;&#x25AA;&#x25AA;</td><td class='float' title='float64'>&#x25AA;&#x25AA;&#x25AA;&#x25AA;&#x25AA;&#x25AA;&#x25AA;&#x25AA;</td><td class='float' title='float64'>&#x25AA;&#x25AA;&#x25AA;&#x25AA;&#x25AA;&#x25AA;&#x25AA;&#x25AA;</td></tr>\n",
       "  </thead>\n",
       "  <tbody>\n",
       "    <tr><td class='row_index'>0</td><td>A</td><td>G</td><td>100.075</td><td>121.271</td><td>4.47209</td><td>&minus;7.18863</td></tr>\n",
       "    <tr><td class='row_index'>1</td><td>B</td><td>H</td><td>75.1913</td><td>75.9385</td><td>&minus;144.388</td><td>&minus;143.229</td></tr>\n",
       "    <tr><td class='row_index'>2</td><td>C</td><td>I</td><td>122.651</td><td>135.044</td><td>&minus;40.4561</td><td>21.2426</td></tr>\n",
       "    <tr><td class='row_index'>3</td><td>D</td><td>J</td><td>124.136</td><td>134.511</td><td>&minus;46.0716</td><td>40.9374</td></tr>\n",
       "    <tr><td class='row_index'>4</td><td>E</td><td>K</td><td>124.136</td><td>134.484</td><td>&minus;46.0716</td><td>40.7847</td></tr>\n",
       "    <tr><td class='row_index'>5</td><td>F</td><td>L</td><td>124.01</td><td>137.962</td><td>&minus;46.0159</td><td>22.9059</td></tr>\n",
       "  </tbody>\n",
       "  </table>\n",
       "  <div class='footer'>\n",
       "    <div class='frame_dimensions'>6 rows &times; 6 columns</div>\n",
       "  </div>\n",
       "</div>\n"
      ],
      "text/plain": [
       "<Frame#115468600 6x6>"
      ]
     },
     "execution_count": 7,
     "metadata": {},
     "output_type": "execute_result"
    }
   ],
   "source": [
    "DT = dt.Frame(\n",
    "    {\n",
    "        \"off_loc\": [\"A\", \"B\", \"C\", \"D\", \"E\", \"F\"],\n",
    "        \"pt_loc\": [\"G\", \"H\", \"I\", \"J\", \"K\", \"L\"],\n",
    "        \"pt_lat\": [\n",
    "            100.07548220000001,\n",
    "            75.191326,\n",
    "            122.65134479999999,\n",
    "            124.13553329999999,\n",
    "            124.13553329999999,\n",
    "            124.01028909999998,\n",
    "        ],\n",
    "        \"off_lat\": [\n",
    "            121.271083,\n",
    "            75.93845266,\n",
    "            135.043791,\n",
    "            134.51128400000002,\n",
    "            134.484374,\n",
    "            137.962195,\n",
    "        ],\n",
    "        \"pt_long\": [\n",
    "            4.472089953,\n",
    "            -144.387785,\n",
    "            -40.45611048,\n",
    "            -46.07156181,\n",
    "            -46.07156181,\n",
    "            -46.01594293,\n",
    "        ],\n",
    "        \"off_long\": [\n",
    "            -7.188632000000001,\n",
    "            -143.2288569,\n",
    "            21.242563,\n",
    "            40.937416999999996,\n",
    "            40.78472,\n",
    "            22.905889000000002,\n",
    "        ],\n",
    "    }\n",
    ")\n",
    "\n",
    "DT"
   ]
  },
  {
   "cell_type": "code",
   "execution_count": 8,
   "metadata": {},
   "outputs": [
    {
     "data": {
      "text/html": [
       "<div class='datatable'>\n",
       "  <table class='frame'>\n",
       "  <thead>\n",
       "    <tr class='colnames'><td class='row_index'></td><th>set</th><th>loc</th><th>lat</th><th>long</th></tr>\n",
       "    <tr class='coltypes'><td class='row_index'></td><td class='str' title='str32'>&#x25AA;&#x25AA;&#x25AA;&#x25AA;</td><td class='str' title='str32'>&#x25AA;&#x25AA;&#x25AA;&#x25AA;</td><td class='float' title='float64'>&#x25AA;&#x25AA;&#x25AA;&#x25AA;&#x25AA;&#x25AA;&#x25AA;&#x25AA;</td><td class='float' title='float64'>&#x25AA;&#x25AA;&#x25AA;&#x25AA;&#x25AA;&#x25AA;&#x25AA;&#x25AA;</td></tr>\n",
       "  </thead>\n",
       "  <tbody>\n",
       "    <tr><td class='row_index'>0</td><td>off</td><td>A</td><td>121.271</td><td>&minus;7.18863</td></tr>\n",
       "    <tr><td class='row_index'>1</td><td>off</td><td>B</td><td>75.9385</td><td>&minus;143.229</td></tr>\n",
       "    <tr><td class='row_index'>2</td><td>off</td><td>C</td><td>135.044</td><td>21.2426</td></tr>\n",
       "    <tr><td class='row_index'>3</td><td>off</td><td>D</td><td>134.511</td><td>40.9374</td></tr>\n",
       "    <tr><td class='row_index'>4</td><td>off</td><td>E</td><td>134.484</td><td>40.7847</td></tr>\n",
       "    <tr><td class='row_index'>5</td><td>off</td><td>F</td><td>137.962</td><td>22.9059</td></tr>\n",
       "    <tr><td class='row_index'>6</td><td>pt</td><td>G</td><td>100.075</td><td>4.47209</td></tr>\n",
       "    <tr><td class='row_index'>7</td><td>pt</td><td>H</td><td>75.1913</td><td>&minus;144.388</td></tr>\n",
       "    <tr><td class='row_index'>8</td><td>pt</td><td>I</td><td>122.651</td><td>&minus;40.4561</td></tr>\n",
       "    <tr><td class='row_index'>9</td><td>pt</td><td>J</td><td>124.136</td><td>&minus;46.0716</td></tr>\n",
       "    <tr><td class='row_index'>10</td><td>pt</td><td>K</td><td>124.136</td><td>&minus;46.0716</td></tr>\n",
       "    <tr><td class='row_index'>11</td><td>pt</td><td>L</td><td>124.01</td><td>&minus;46.0159</td></tr>\n",
       "  </tbody>\n",
       "  </table>\n",
       "  <div class='footer'>\n",
       "    <div class='frame_dimensions'>12 rows &times; 4 columns</div>\n",
       "  </div>\n",
       "</div>\n"
      ],
      "text/plain": [
       "<Frame#115468420 12x4>"
      ]
     },
     "execution_count": 8,
     "metadata": {},
     "output_type": "execute_result"
    }
   ],
   "source": [
    "melt(DT, variable_name=(['set', '.value'], None, r\"(.+)_(.+)\"))"
   ]
  },
  {
   "cell_type": "code",
   "execution_count": 9,
   "metadata": {},
   "outputs": [
    {
     "data": {
      "text/html": [
       "<div class='datatable'>\n",
       "  <table class='frame'>\n",
       "  <thead>\n",
       "    <tr class='colnames'><td class='row_index'></td><th>Location</th><th>Account</th><th>Y2019:MTD:January:Expense</th><th>Y2019:MTD:January:Income</th><th>Y2019:MTD:February:Expense</th></tr>\n",
       "    <tr class='coltypes'><td class='row_index'></td><td class='str' title='str32'>&#x25AA;&#x25AA;&#x25AA;&#x25AA;</td><td class='str' title='str32'>&#x25AA;&#x25AA;&#x25AA;&#x25AA;</td><td class='int' title='int32'>&#x25AA;&#x25AA;&#x25AA;&#x25AA;</td><td class='int' title='int32'>&#x25AA;&#x25AA;&#x25AA;&#x25AA;</td><td class='int' title='int32'>&#x25AA;&#x25AA;&#x25AA;&#x25AA;</td></tr>\n",
       "  </thead>\n",
       "  <tbody>\n",
       "    <tr><td class='row_index'>0</td><td>Madrid</td><td>ABC</td><td>4354</td><td>56456</td><td>235423</td></tr>\n",
       "    <tr><td class='row_index'>1</td><td>Madrid</td><td>XYX</td><td>769867</td><td>32556456</td><td>6785423</td></tr>\n",
       "    <tr><td class='row_index'>2</td><td>Rome</td><td>ABC</td><td>434654</td><td>5214</td><td>235423</td></tr>\n",
       "    <tr><td class='row_index'>3</td><td>Rome</td><td>XYX</td><td>632556456</td><td>46724423</td><td>46588</td></tr>\n",
       "  </tbody>\n",
       "  </table>\n",
       "  <div class='footer'>\n",
       "    <div class='frame_dimensions'>4 rows &times; 5 columns</div>\n",
       "  </div>\n",
       "</div>\n"
      ],
      "text/plain": [
       "<Frame#115478a20 4x5>"
      ]
     },
     "execution_count": 9,
     "metadata": {},
     "output_type": "execute_result"
    }
   ],
   "source": [
    "DT = dt.Frame({'Location': ['Madrid', 'Madrid', 'Rome', 'Rome'],\n",
    " 'Account': ['ABC', 'XYX', 'ABC', 'XYX'],\n",
    " 'Y2019:MTD:January:Expense': [4354, 769867, 434654, 632556456],\n",
    " 'Y2019:MTD:January:Income': [56456, 32556456, 5214, 46724423],\n",
    " 'Y2019:MTD:February:Expense': [235423, 6785423, 235423, 46588]})\n",
    "\n",
    "DT"
   ]
  },
  {
   "cell_type": "code",
   "execution_count": 10,
   "metadata": {},
   "outputs": [
    {
     "data": {
      "text/html": [
       "<div class='datatable'>\n",
       "  <table class='frame'>\n",
       "  <thead>\n",
       "    <tr class='colnames'><td class='row_index'></td><th>Location</th><th>Account</th><th>year</th><th>month</th><th>Expense</th><th>Income</th></tr>\n",
       "    <tr class='coltypes'><td class='row_index'></td><td class='str' title='str32'>&#x25AA;&#x25AA;&#x25AA;&#x25AA;</td><td class='str' title='str32'>&#x25AA;&#x25AA;&#x25AA;&#x25AA;</td><td class='str' title='str32'>&#x25AA;&#x25AA;&#x25AA;&#x25AA;</td><td class='str' title='str32'>&#x25AA;&#x25AA;&#x25AA;&#x25AA;</td><td class='int' title='int32'>&#x25AA;&#x25AA;&#x25AA;&#x25AA;</td><td class='int' title='int32'>&#x25AA;&#x25AA;&#x25AA;&#x25AA;</td></tr>\n",
       "  </thead>\n",
       "  <tbody>\n",
       "    <tr><td class='row_index'>0</td><td>Madrid</td><td>ABC</td><td>2019</td><td>Jan</td><td>4354</td><td>56456</td></tr>\n",
       "    <tr><td class='row_index'>1</td><td>Madrid</td><td>XYX</td><td>2019</td><td>Jan</td><td>769867</td><td>32556456</td></tr>\n",
       "    <tr><td class='row_index'>2</td><td>Rome</td><td>ABC</td><td>2019</td><td>Jan</td><td>434654</td><td>5214</td></tr>\n",
       "    <tr><td class='row_index'>3</td><td>Rome</td><td>XYX</td><td>2019</td><td>Jan</td><td>632556456</td><td>46724423</td></tr>\n",
       "    <tr><td class='row_index'>4</td><td>Madrid</td><td>ABC</td><td>2019</td><td>Feb</td><td>235423</td><td><span class=na>NA</span></td></tr>\n",
       "    <tr><td class='row_index'>5</td><td>Madrid</td><td>XYX</td><td>2019</td><td>Feb</td><td>6785423</td><td><span class=na>NA</span></td></tr>\n",
       "    <tr><td class='row_index'>6</td><td>Rome</td><td>ABC</td><td>2019</td><td>Feb</td><td>235423</td><td><span class=na>NA</span></td></tr>\n",
       "    <tr><td class='row_index'>7</td><td>Rome</td><td>XYX</td><td>2019</td><td>Feb</td><td>46588</td><td><span class=na>NA</span></td></tr>\n",
       "  </tbody>\n",
       "  </table>\n",
       "  <div class='footer'>\n",
       "    <div class='frame_dimensions'>8 rows &times; 6 columns</div>\n",
       "  </div>\n",
       "</div>\n"
      ],
      "text/plain": [
       "<Frame#115478b40 8x6>"
      ]
     },
     "execution_count": 10,
     "metadata": {},
     "output_type": "execute_result"
    }
   ],
   "source": [
    "melt(DT, id_vars=['Location', 'Account'], variable_name=(['year','month', '.value'], None, r\"Y(.+):MTD:(.{3}).+(Income|Expense)\"))"
   ]
  },
  {
   "cell_type": "code",
   "execution_count": 11,
   "metadata": {},
   "outputs": [
    {
     "data": {
      "text/html": [
       "<div class='datatable'>\n",
       "  <table class='frame'>\n",
       "  <thead>\n",
       "    <tr class='colnames'><td class='row_index'></td><th>Location</th><th>Account</th><th>Y2019:MTD:January:Expense</th><th>Y2019:MTD:January:Income</th><th>Y2019:MTD:February:Expense</th></tr>\n",
       "    <tr class='coltypes'><td class='row_index'></td><td class='str' title='str32'>&#x25AA;&#x25AA;&#x25AA;&#x25AA;</td><td class='str' title='str32'>&#x25AA;&#x25AA;&#x25AA;&#x25AA;</td><td class='int' title='int32'>&#x25AA;&#x25AA;&#x25AA;&#x25AA;</td><td class='int' title='int32'>&#x25AA;&#x25AA;&#x25AA;&#x25AA;</td><td class='int' title='int32'>&#x25AA;&#x25AA;&#x25AA;&#x25AA;</td></tr>\n",
       "  </thead>\n",
       "  <tbody>\n",
       "    <tr><td class='row_index'>0</td><td>Madrid</td><td>ABC</td><td>4354</td><td>56456</td><td>235423</td></tr>\n",
       "    <tr><td class='row_index'>1</td><td>Madrid</td><td>XYX</td><td>769867</td><td>32556456</td><td>6785423</td></tr>\n",
       "    <tr><td class='row_index'>2</td><td>Rome</td><td>ABC</td><td>434654</td><td>5214</td><td>235423</td></tr>\n",
       "    <tr><td class='row_index'>3</td><td>Rome</td><td>XYX</td><td>632556456</td><td>46724423</td><td>46588</td></tr>\n",
       "  </tbody>\n",
       "  </table>\n",
       "  <div class='footer'>\n",
       "    <div class='frame_dimensions'>4 rows &times; 5 columns</div>\n",
       "  </div>\n",
       "</div>\n"
      ],
      "text/plain": [
       "<Frame#115478a20 4x5>"
      ]
     },
     "execution_count": 11,
     "metadata": {},
     "output_type": "execute_result"
    }
   ],
   "source": [
    "DT"
   ]
  },
  {
   "cell_type": "code",
   "execution_count": 12,
   "metadata": {},
   "outputs": [
    {
     "data": {
      "text/html": [
       "<div class='datatable'>\n",
       "  <table class='frame'>\n",
       "  <thead>\n",
       "    <tr class='colnames'><td class='row_index'></td><th>country</th><th>vault_2012_f</th><th>vault_2012_m</th><th>vault_2016_f</th><th>vault_2016_m</th><th>floor_2012_f</th><th>floor_2012_m</th><th>floor_2016_f</th><th>floor_2016_m</th></tr>\n",
       "    <tr class='coltypes'><td class='row_index'></td><td class='str' title='str32'>&#x25AA;&#x25AA;&#x25AA;&#x25AA;</td><td class='float' title='float64'>&#x25AA;&#x25AA;&#x25AA;&#x25AA;&#x25AA;&#x25AA;&#x25AA;&#x25AA;</td><td class='float' title='float64'>&#x25AA;&#x25AA;&#x25AA;&#x25AA;&#x25AA;&#x25AA;&#x25AA;&#x25AA;</td><td class='float' title='float64'>&#x25AA;&#x25AA;&#x25AA;&#x25AA;&#x25AA;&#x25AA;&#x25AA;&#x25AA;</td><td class='float' title='float64'>&#x25AA;&#x25AA;&#x25AA;&#x25AA;&#x25AA;&#x25AA;&#x25AA;&#x25AA;</td><td class='float' title='float64'>&#x25AA;&#x25AA;&#x25AA;&#x25AA;&#x25AA;&#x25AA;&#x25AA;&#x25AA;</td><td class='float' title='float64'>&#x25AA;&#x25AA;&#x25AA;&#x25AA;&#x25AA;&#x25AA;&#x25AA;&#x25AA;</td><td class='float' title='float64'>&#x25AA;&#x25AA;&#x25AA;&#x25AA;&#x25AA;&#x25AA;&#x25AA;&#x25AA;</td><td class='float' title='float64'>&#x25AA;&#x25AA;&#x25AA;&#x25AA;&#x25AA;&#x25AA;&#x25AA;&#x25AA;</td></tr>\n",
       "  </thead>\n",
       "  <tbody>\n",
       "    <tr><td class='row_index'>0</td><td>United States</td><td>48.132</td><td>46.632</td><td>46.866</td><td>45.865</td><td>45.366</td><td>45.266</td><td>45.999</td><td>43.757</td></tr>\n",
       "    <tr><td class='row_index'>1</td><td>Russia</td><td>46.366</td><td>46.866</td><td>45.733</td><td>46.033</td><td>41.599</td><td>45.308</td><td>42.032</td><td>44.766</td></tr>\n",
       "    <tr><td class='row_index'>2</td><td>China</td><td>44.266</td><td>48.316</td><td>44.332</td><td>45</td><td>40.833</td><td>45.133</td><td>42.066</td><td>43.799</td></tr>\n",
       "  </tbody>\n",
       "  </table>\n",
       "  <div class='footer'>\n",
       "    <div class='frame_dimensions'>3 rows &times; 9 columns</div>\n",
       "  </div>\n",
       "</div>\n"
      ],
      "text/plain": [
       "<Frame#1154680c0 3x9>"
      ]
     },
     "execution_count": 12,
     "metadata": {},
     "output_type": "execute_result"
    }
   ],
   "source": [
    "DT = dt.Frame(\n",
    "            {\n",
    "                \"country\": [\"United States\", \"Russia\", \"China\"],\n",
    "                \"vault_2012_f\": [\n",
    "                    48.132,\n",
    "                    46.366,\n",
    "                    44.266,\n",
    "                ],\n",
    "                \"vault_2012_m\": [46.632, 46.866, 48.316],\n",
    "                \"vault_2016_f\": [\n",
    "                    46.866,\n",
    "                    45.733,\n",
    "                    44.332,\n",
    "                ],\n",
    "                \"vault_2016_m\": [45.865, 46.033, 45.0],\n",
    "                \"floor_2012_f\": [45.366, 41.599, 40.833],\n",
    "                \"floor_2012_m\": [45.266, 45.308, 45.133],\n",
    "                \"floor_2016_f\": [45.999, 42.032, 42.066],\n",
    "                \"floor_2016_m\": [43.757, 44.766, 43.799],\n",
    "            }\n",
    "        )\n",
    "\n",
    "DT"
   ]
  },
  {
   "cell_type": "code",
   "execution_count": 13,
   "metadata": {},
   "outputs": [
    {
     "data": {
      "text/html": [
       "<div class='datatable'>\n",
       "  <table class='frame'>\n",
       "  <thead>\n",
       "    <tr class='colnames'><td class='row_index'></td><th>country</th><th>event</th><th>year</th><th>gender</th><th>value</th></tr>\n",
       "    <tr class='coltypes'><td class='row_index'></td><td class='str' title='str32'>&#x25AA;&#x25AA;&#x25AA;&#x25AA;</td><td class='str' title='str32'>&#x25AA;&#x25AA;&#x25AA;&#x25AA;</td><td class='str' title='str32'>&#x25AA;&#x25AA;&#x25AA;&#x25AA;</td><td class='str' title='str32'>&#x25AA;&#x25AA;&#x25AA;&#x25AA;</td><td class='float' title='float64'>&#x25AA;&#x25AA;&#x25AA;&#x25AA;&#x25AA;&#x25AA;&#x25AA;&#x25AA;</td></tr>\n",
       "  </thead>\n",
       "  <tbody>\n",
       "    <tr><td class='row_index'>0</td><td>United States</td><td>vault</td><td>2012</td><td>f</td><td>48.132</td></tr>\n",
       "    <tr><td class='row_index'>1</td><td>Russia</td><td>vault</td><td>2012</td><td>f</td><td>46.366</td></tr>\n",
       "    <tr><td class='row_index'>2</td><td>China</td><td>vault</td><td>2012</td><td>f</td><td>44.266</td></tr>\n",
       "    <tr><td class='row_index'>3</td><td>United States</td><td>vault</td><td>2012</td><td>m</td><td>46.632</td></tr>\n",
       "    <tr><td class='row_index'>4</td><td>Russia</td><td>vault</td><td>2012</td><td>m</td><td>46.866</td></tr>\n",
       "    <tr><td class='row_index'>5</td><td>China</td><td>vault</td><td>2012</td><td>m</td><td>48.316</td></tr>\n",
       "    <tr><td class='row_index'>6</td><td>United States</td><td>vault</td><td>2016</td><td>f</td><td>46.866</td></tr>\n",
       "    <tr><td class='row_index'>7</td><td>Russia</td><td>vault</td><td>2016</td><td>f</td><td>45.733</td></tr>\n",
       "    <tr><td class='row_index'>8</td><td>China</td><td>vault</td><td>2016</td><td>f</td><td>44.332</td></tr>\n",
       "    <tr><td class='row_index'>9</td><td>United States</td><td>vault</td><td>2016</td><td>m</td><td>45.865</td></tr>\n",
       "    <tr><td class='row_index'>10</td><td>Russia</td><td>vault</td><td>2016</td><td>m</td><td>46.033</td></tr>\n",
       "    <tr><td class='row_index'>11</td><td>China</td><td>vault</td><td>2016</td><td>m</td><td>45</td></tr>\n",
       "    <tr><td class='row_index'>12</td><td>United States</td><td>floor</td><td>2012</td><td>f</td><td>45.366</td></tr>\n",
       "    <tr><td class='row_index'>13</td><td>Russia</td><td>floor</td><td>2012</td><td>f</td><td>41.599</td></tr>\n",
       "    <tr><td class='row_index'>14</td><td>China</td><td>floor</td><td>2012</td><td>f</td><td>40.833</td></tr>\n",
       "    <tr><td class='row_index'>15</td><td>United States</td><td>floor</td><td>2012</td><td>m</td><td>45.266</td></tr>\n",
       "    <tr><td class='row_index'>16</td><td>Russia</td><td>floor</td><td>2012</td><td>m</td><td>45.308</td></tr>\n",
       "    <tr><td class='row_index'>17</td><td>China</td><td>floor</td><td>2012</td><td>m</td><td>45.133</td></tr>\n",
       "    <tr><td class='row_index'>18</td><td>United States</td><td>floor</td><td>2016</td><td>f</td><td>45.999</td></tr>\n",
       "    <tr><td class='row_index'>19</td><td>Russia</td><td>floor</td><td>2016</td><td>f</td><td>42.032</td></tr>\n",
       "    <tr><td class='row_index'>20</td><td>China</td><td>floor</td><td>2016</td><td>f</td><td>42.066</td></tr>\n",
       "    <tr><td class='row_index'>21</td><td>United States</td><td>floor</td><td>2016</td><td>m</td><td>43.757</td></tr>\n",
       "    <tr><td class='row_index'>22</td><td>Russia</td><td>floor</td><td>2016</td><td>m</td><td>44.766</td></tr>\n",
       "    <tr><td class='row_index'>23</td><td>China</td><td>floor</td><td>2016</td><td>m</td><td>43.799</td></tr>\n",
       "  </tbody>\n",
       "  </table>\n",
       "  <div class='footer'>\n",
       "    <div class='frame_dimensions'>24 rows &times; 5 columns</div>\n",
       "  </div>\n",
       "</div>\n"
      ],
      "text/plain": [
       "<Frame#111be6570 24x5>"
      ]
     },
     "execution_count": 13,
     "metadata": {},
     "output_type": "execute_result"
    }
   ],
   "source": [
    "melt(DT, id_vars='country', variable_name=(['event', 'year', 'gender'], '_'))"
   ]
  },
  {
   "cell_type": "code",
   "execution_count": 14,
   "metadata": {},
   "outputs": [
    {
     "data": {
      "text/plain": [
       "measure(column_names=['event', 'country'], sep=None, pattern='_')"
      ]
     },
     "execution_count": 14,
     "metadata": {},
     "output_type": "execute_result"
    }
   ],
   "source": [
    "measure(['event','country'], None, '_')"
   ]
  },
  {
   "cell_type": "code",
   "execution_count": 15,
   "metadata": {},
   "outputs": [
    {
     "data": {
      "text/html": [
       "<div class='datatable'>\n",
       "  <table class='frame'>\n",
       "  <thead>\n",
       "    <tr class='colnames'><td class='row_index'></td><th>id</th><th>Name</th><th>code</th><th>code1</th><th>code2</th><th>type</th><th>type1</th><th>type2</th></tr>\n",
       "    <tr class='coltypes'><td class='row_index'></td><td class='int' title='int8'>&#x25AA;</td><td class='str' title='str32'>&#x25AA;&#x25AA;&#x25AA;&#x25AA;</td><td class='int' title='int32'>&#x25AA;&#x25AA;&#x25AA;&#x25AA;</td><td class='int' title='int32'>&#x25AA;&#x25AA;&#x25AA;&#x25AA;</td><td class='int' title='int32'>&#x25AA;&#x25AA;&#x25AA;&#x25AA;</td><td class='str' title='str32'>&#x25AA;&#x25AA;&#x25AA;&#x25AA;</td><td class='str' title='str32'>&#x25AA;&#x25AA;&#x25AA;&#x25AA;</td><td class='str' title='str32'>&#x25AA;&#x25AA;&#x25AA;&#x25AA;</td></tr>\n",
       "  </thead>\n",
       "  <tbody>\n",
       "    <tr><td class='row_index'>0</td><td>0</td><td>ABC</td><td>1</td><td>4</td><td>8</td><td>S</td><td>E</td><td>T</td></tr>\n",
       "    <tr><td class='row_index'>1</td><td>1</td><td>XYZ</td><td>2</td><td><span class=na>NA</span></td><td>5</td><td>R</td><td><span class=na>NA</span></td><td>U</td></tr>\n",
       "  </tbody>\n",
       "  </table>\n",
       "  <div class='footer'>\n",
       "    <div class='frame_dimensions'>2 rows &times; 8 columns</div>\n",
       "  </div>\n",
       "</div>\n"
      ],
      "text/plain": [
       "<Frame#115478030 2x8>"
      ]
     },
     "execution_count": 15,
     "metadata": {},
     "output_type": "execute_result"
    }
   ],
   "source": [
    "DT = dt.Frame({'id': [0, 1],\n",
    " 'Name': ['ABC', 'XYZ'],\n",
    " 'code': [1, 2],\n",
    " 'code1': [4, np.nan],\n",
    " 'code2': [8, 5],\n",
    " 'type': ['S', 'R'],\n",
    " 'type1': ['E', np.nan],\n",
    " 'type2': ['T', 'U']})\n",
    "\n",
    "\n",
    "DT"
   ]
  },
  {
   "cell_type": "code",
   "execution_count": 16,
   "metadata": {},
   "outputs": [
    {
     "data": {
      "text/html": [
       "<div class='datatable'>\n",
       "  <table class='frame'>\n",
       "  <thead>\n",
       "    <tr class='colnames'><td class='row_index'></td><th>id</th><th>Name</th><th>code_all</th><th>type_all</th></tr>\n",
       "    <tr class='coltypes'><td class='row_index'></td><td class='int' title='int8'>&#x25AA;</td><td class='str' title='str32'>&#x25AA;&#x25AA;&#x25AA;&#x25AA;</td><td class='int' title='int32'>&#x25AA;&#x25AA;&#x25AA;&#x25AA;</td><td class='str' title='str32'>&#x25AA;&#x25AA;&#x25AA;&#x25AA;</td></tr>\n",
       "  </thead>\n",
       "  <tbody>\n",
       "    <tr><td class='row_index'>0</td><td>0</td><td>ABC</td><td>1</td><td>S</td></tr>\n",
       "    <tr><td class='row_index'>1</td><td>1</td><td>XYZ</td><td>2</td><td>R</td></tr>\n",
       "    <tr><td class='row_index'>2</td><td>0</td><td>ABC</td><td>4</td><td>E</td></tr>\n",
       "    <tr><td class='row_index'>3</td><td>1</td><td>XYZ</td><td><span class=na>NA</span></td><td><span class=na>NA</span></td></tr>\n",
       "    <tr><td class='row_index'>4</td><td>0</td><td>ABC</td><td>8</td><td>T</td></tr>\n",
       "    <tr><td class='row_index'>5</td><td>1</td><td>XYZ</td><td>5</td><td>U</td></tr>\n",
       "  </tbody>\n",
       "  </table>\n",
       "  <div class='footer'>\n",
       "    <div class='frame_dimensions'>6 rows &times; 4 columns</div>\n",
       "  </div>\n",
       "</div>\n"
      ],
      "text/plain": [
       "<Frame#1154784e0 6x4>"
      ]
     },
     "execution_count": 16,
     "metadata": {},
     "output_type": "execute_result"
    }
   ],
   "source": [
    "melt(DT, id_vars = ['id', 'Name'], variable_name={'code_all':'^code', 'type_all':'^type'})"
   ]
  },
  {
   "cell_type": "code",
   "execution_count": 17,
   "metadata": {},
   "outputs": [
    {
     "data": {
      "text/html": [
       "<div class='datatable'>\n",
       "  <table class='frame'>\n",
       "  <thead>\n",
       "    <tr class='colnames'><td class='row_index'></td><th>ID</th><th>DateRange1Start</th><th>DateRange1End</th><th>Value1</th><th>DateRange2Start</th><th>DateRange2End</th><th>Value2</th><th>DateRange3Start</th><th>DateRange3End</th><th>Value3</th></tr>\n",
       "    <tr class='coltypes'><td class='row_index'></td><td class='int' title='int8'>&#x25AA;</td><td class='str' title='str32'>&#x25AA;&#x25AA;&#x25AA;&#x25AA;</td><td class='str' title='str32'>&#x25AA;&#x25AA;&#x25AA;&#x25AA;</td><td class='float' title='float64'>&#x25AA;&#x25AA;&#x25AA;&#x25AA;&#x25AA;&#x25AA;&#x25AA;&#x25AA;</td><td class='str' title='str32'>&#x25AA;&#x25AA;&#x25AA;&#x25AA;</td><td class='str' title='str32'>&#x25AA;&#x25AA;&#x25AA;&#x25AA;</td><td class='float' title='float64'>&#x25AA;&#x25AA;&#x25AA;&#x25AA;&#x25AA;&#x25AA;&#x25AA;&#x25AA;</td><td class='str' title='str32'>&#x25AA;&#x25AA;&#x25AA;&#x25AA;</td><td class='str' title='str32'>&#x25AA;&#x25AA;&#x25AA;&#x25AA;</td><td class='float' title='float64'>&#x25AA;&#x25AA;&#x25AA;&#x25AA;&#x25AA;&#x25AA;&#x25AA;&#x25AA;</td></tr>\n",
       "  </thead>\n",
       "  <tbody>\n",
       "    <tr><td class='row_index'>0</td><td>1</td><td>1/1/90</td><td>3/1/90</td><td>4.4</td><td>4/5/91</td><td>6/7/91</td><td>6.2</td><td>5/5/95</td><td>6/6/96</td><td>3.3</td></tr>\n",
       "  </tbody>\n",
       "  </table>\n",
       "  <div class='footer'>\n",
       "    <div class='frame_dimensions'>1 row &times; 10 columns</div>\n",
       "  </div>\n",
       "</div>\n"
      ],
      "text/plain": [
       "<Frame#115468b70 1x10>"
      ]
     },
     "execution_count": 17,
     "metadata": {},
     "output_type": "execute_result"
    }
   ],
   "source": [
    "DT = dt.Frame(\n",
    "            [\n",
    "                {\n",
    "                    \"ID\": 1,\n",
    "                    \"DateRange1Start\": \"1/1/90\",\n",
    "                    \"DateRange1End\": \"3/1/90\",\n",
    "                    \"Value1\": 4.4,\n",
    "                    \"DateRange2Start\": \"4/5/91\",\n",
    "                    \"DateRange2End\": \"6/7/91\",\n",
    "                    \"Value2\": 6.2,\n",
    "                    \"DateRange3Start\": \"5/5/95\",\n",
    "                    \"DateRange3End\": \"6/6/96\",\n",
    "                    \"Value3\": 3.3,\n",
    "                }\n",
    "            ])\n",
    "\n",
    "DT"
   ]
  },
  {
   "cell_type": "code",
   "execution_count": 18,
   "metadata": {},
   "outputs": [
    {
     "data": {
      "text/html": [
       "<div class='datatable'>\n",
       "  <table class='frame'>\n",
       "  <thead>\n",
       "    <tr class='colnames'><td class='row_index'></td><th>ID</th><th>DateRangeStart</th><th>DateRangeEnd</th><th>Value</th></tr>\n",
       "    <tr class='coltypes'><td class='row_index'></td><td class='int' title='int8'>&#x25AA;</td><td class='str' title='str32'>&#x25AA;&#x25AA;&#x25AA;&#x25AA;</td><td class='str' title='str32'>&#x25AA;&#x25AA;&#x25AA;&#x25AA;</td><td class='float' title='float64'>&#x25AA;&#x25AA;&#x25AA;&#x25AA;&#x25AA;&#x25AA;&#x25AA;&#x25AA;</td></tr>\n",
       "  </thead>\n",
       "  <tbody>\n",
       "    <tr><td class='row_index'>0</td><td>1</td><td>1/1/90</td><td>3/1/90</td><td>4.4</td></tr>\n",
       "    <tr><td class='row_index'>1</td><td>1</td><td>4/5/91</td><td>6/7/91</td><td>6.2</td></tr>\n",
       "    <tr><td class='row_index'>2</td><td>1</td><td>5/5/95</td><td>6/6/96</td><td>3.3</td></tr>\n",
       "  </tbody>\n",
       "  </table>\n",
       "  <div class='footer'>\n",
       "    <div class='frame_dimensions'>3 rows &times; 4 columns</div>\n",
       "  </div>\n",
       "</div>\n"
      ],
      "text/plain": [
       "<Frame#115478060 3x4>"
      ]
     },
     "execution_count": 18,
     "metadata": {},
     "output_type": "execute_result"
    }
   ],
   "source": [
    "melt(DT, id_vars='ID', variable_name={\"DateRangeStart\":\"Start$\", 'DateRangeEnd':'End$', 'Value':'^Value'})"
   ]
  },
  {
   "cell_type": "code",
   "execution_count": 19,
   "metadata": {},
   "outputs": [
    {
     "data": {
      "text/html": [
       "<div class='datatable'>\n",
       "  <table class='frame'>\n",
       "  <thead>\n",
       "    <tr class='colnames'><td class='row_index'></td><th>country</th><th>vault_2012_f</th><th>vault_2012_m</th><th>vault_2016_f</th><th>vault_2016_m</th><th>floor_2012_f</th><th>floor_2012_m</th><th>floor_2016_f</th><th>floor_2016_m</th></tr>\n",
       "    <tr class='coltypes'><td class='row_index'></td><td class='str' title='str32'>&#x25AA;&#x25AA;&#x25AA;&#x25AA;</td><td class='float' title='float64'>&#x25AA;&#x25AA;&#x25AA;&#x25AA;&#x25AA;&#x25AA;&#x25AA;&#x25AA;</td><td class='float' title='float64'>&#x25AA;&#x25AA;&#x25AA;&#x25AA;&#x25AA;&#x25AA;&#x25AA;&#x25AA;</td><td class='float' title='float64'>&#x25AA;&#x25AA;&#x25AA;&#x25AA;&#x25AA;&#x25AA;&#x25AA;&#x25AA;</td><td class='float' title='float64'>&#x25AA;&#x25AA;&#x25AA;&#x25AA;&#x25AA;&#x25AA;&#x25AA;&#x25AA;</td><td class='float' title='float64'>&#x25AA;&#x25AA;&#x25AA;&#x25AA;&#x25AA;&#x25AA;&#x25AA;&#x25AA;</td><td class='float' title='float64'>&#x25AA;&#x25AA;&#x25AA;&#x25AA;&#x25AA;&#x25AA;&#x25AA;&#x25AA;</td><td class='float' title='float64'>&#x25AA;&#x25AA;&#x25AA;&#x25AA;&#x25AA;&#x25AA;&#x25AA;&#x25AA;</td><td class='float' title='float64'>&#x25AA;&#x25AA;&#x25AA;&#x25AA;&#x25AA;&#x25AA;&#x25AA;&#x25AA;</td></tr>\n",
       "  </thead>\n",
       "  <tbody>\n",
       "    <tr><td class='row_index'>0</td><td>United States</td><td>48.132</td><td>46.632</td><td>46.866</td><td>45.865</td><td>45.366</td><td>45.266</td><td>45.999</td><td>43.757</td></tr>\n",
       "    <tr><td class='row_index'>1</td><td>Russia</td><td>46.366</td><td>46.866</td><td>45.733</td><td>46.033</td><td>41.599</td><td>45.308</td><td>42.032</td><td>44.766</td></tr>\n",
       "    <tr><td class='row_index'>2</td><td>China</td><td>44.266</td><td>48.316</td><td>44.332</td><td>45</td><td>40.833</td><td>45.133</td><td>42.066</td><td>43.799</td></tr>\n",
       "  </tbody>\n",
       "  </table>\n",
       "  <div class='footer'>\n",
       "    <div class='frame_dimensions'>3 rows &times; 9 columns</div>\n",
       "  </div>\n",
       "</div>\n"
      ],
      "text/plain": [
       "<Frame#111b9fcf0 3x9>"
      ]
     },
     "execution_count": 19,
     "metadata": {},
     "output_type": "execute_result"
    }
   ],
   "source": [
    "DT = dt.Frame(\n",
    "            {\n",
    "                \"country\": [\"United States\", \"Russia\", \"China\"],\n",
    "                \"vault_2012_f\": [\n",
    "                    48.132,\n",
    "                    46.366,\n",
    "                    44.266,\n",
    "                ],\n",
    "                \"vault_2012_m\": [46.632, 46.866, 48.316],\n",
    "                \"vault_2016_f\": [\n",
    "                    46.866,\n",
    "                    45.733,\n",
    "                    44.332,\n",
    "                ],\n",
    "                \"vault_2016_m\": [45.865, 46.033, 45.0],\n",
    "                \"floor_2012_f\": [45.366, 41.599, 40.833],\n",
    "                \"floor_2012_m\": [45.266, 45.308, 45.133],\n",
    "                \"floor_2016_f\": [45.999, 42.032, 42.066],\n",
    "                \"floor_2016_m\": [43.757, 44.766, 43.799],\n",
    "            }\n",
    "        )\n",
    "\n",
    "DT"
   ]
  },
  {
   "cell_type": "code",
   "execution_count": 20,
   "metadata": {},
   "outputs": [
    {
     "data": {
      "text/html": [
       "<div class='datatable'>\n",
       "  <table class='frame'>\n",
       "  <thead>\n",
       "    <tr class='colnames'><td class='row_index'></td><th>country</th><th>event</th><th>year</th><th>gender</th><th>value</th></tr>\n",
       "    <tr class='coltypes'><td class='row_index'></td><td class='str' title='str32'>&#x25AA;&#x25AA;&#x25AA;&#x25AA;</td><td class='str' title='str32'>&#x25AA;&#x25AA;&#x25AA;&#x25AA;</td><td class='str' title='str32'>&#x25AA;&#x25AA;&#x25AA;&#x25AA;</td><td class='str' title='str32'>&#x25AA;&#x25AA;&#x25AA;&#x25AA;</td><td class='float' title='float64'>&#x25AA;&#x25AA;&#x25AA;&#x25AA;&#x25AA;&#x25AA;&#x25AA;&#x25AA;</td></tr>\n",
       "  </thead>\n",
       "  <tbody>\n",
       "    <tr><td class='row_index'>0</td><td>United States</td><td>vault</td><td>2012</td><td>f</td><td>48.132</td></tr>\n",
       "    <tr><td class='row_index'>1</td><td>Russia</td><td>vault</td><td>2012</td><td>f</td><td>46.366</td></tr>\n",
       "    <tr><td class='row_index'>2</td><td>China</td><td>vault</td><td>2012</td><td>f</td><td>44.266</td></tr>\n",
       "    <tr><td class='row_index'>3</td><td>United States</td><td>vault</td><td>2012</td><td>m</td><td>46.632</td></tr>\n",
       "    <tr><td class='row_index'>4</td><td>Russia</td><td>vault</td><td>2012</td><td>m</td><td>46.866</td></tr>\n",
       "    <tr><td class='row_index'>5</td><td>China</td><td>vault</td><td>2012</td><td>m</td><td>48.316</td></tr>\n",
       "    <tr><td class='row_index'>6</td><td>United States</td><td>vault</td><td>2016</td><td>f</td><td>46.866</td></tr>\n",
       "    <tr><td class='row_index'>7</td><td>Russia</td><td>vault</td><td>2016</td><td>f</td><td>45.733</td></tr>\n",
       "    <tr><td class='row_index'>8</td><td>China</td><td>vault</td><td>2016</td><td>f</td><td>44.332</td></tr>\n",
       "    <tr><td class='row_index'>9</td><td>United States</td><td>vault</td><td>2016</td><td>m</td><td>45.865</td></tr>\n",
       "    <tr><td class='row_index'>10</td><td>Russia</td><td>vault</td><td>2016</td><td>m</td><td>46.033</td></tr>\n",
       "    <tr><td class='row_index'>11</td><td>China</td><td>vault</td><td>2016</td><td>m</td><td>45</td></tr>\n",
       "    <tr><td class='row_index'>12</td><td>United States</td><td>floor</td><td>2012</td><td>f</td><td>45.366</td></tr>\n",
       "    <tr><td class='row_index'>13</td><td>Russia</td><td>floor</td><td>2012</td><td>f</td><td>41.599</td></tr>\n",
       "    <tr><td class='row_index'>14</td><td>China</td><td>floor</td><td>2012</td><td>f</td><td>40.833</td></tr>\n",
       "    <tr><td class='row_index'>15</td><td>United States</td><td>floor</td><td>2012</td><td>m</td><td>45.266</td></tr>\n",
       "    <tr><td class='row_index'>16</td><td>Russia</td><td>floor</td><td>2012</td><td>m</td><td>45.308</td></tr>\n",
       "    <tr><td class='row_index'>17</td><td>China</td><td>floor</td><td>2012</td><td>m</td><td>45.133</td></tr>\n",
       "    <tr><td class='row_index'>18</td><td>United States</td><td>floor</td><td>2016</td><td>f</td><td>45.999</td></tr>\n",
       "    <tr><td class='row_index'>19</td><td>Russia</td><td>floor</td><td>2016</td><td>f</td><td>42.032</td></tr>\n",
       "    <tr><td class='row_index'>20</td><td>China</td><td>floor</td><td>2016</td><td>f</td><td>42.066</td></tr>\n",
       "    <tr><td class='row_index'>21</td><td>United States</td><td>floor</td><td>2016</td><td>m</td><td>43.757</td></tr>\n",
       "    <tr><td class='row_index'>22</td><td>Russia</td><td>floor</td><td>2016</td><td>m</td><td>44.766</td></tr>\n",
       "    <tr><td class='row_index'>23</td><td>China</td><td>floor</td><td>2016</td><td>m</td><td>43.799</td></tr>\n",
       "  </tbody>\n",
       "  </table>\n",
       "  <div class='footer'>\n",
       "    <div class='frame_dimensions'>24 rows &times; 5 columns</div>\n",
       "  </div>\n",
       "</div>\n"
      ],
      "text/plain": [
       "<Frame#111be6540 24x5>"
      ]
     },
     "execution_count": 20,
     "metadata": {},
     "output_type": "execute_result"
    }
   ],
   "source": [
    "pat = r\"(?P<event>[a-z]+)_(?P<year>\\d+)_(?P<gender>.+)\"\n",
    "out = melt(DT, id_vars='country', variable_name=re.compile(pat))\n",
    "out\n",
    "#dt.Frame(out)\n"
   ]
  },
  {
   "cell_type": "code",
   "execution_count": 21,
   "metadata": {},
   "outputs": [
    {
     "data": {
      "text/html": [
       "<div class='datatable'>\n",
       "  <table class='frame'>\n",
       "  <thead>\n",
       "    <tr class='colnames'><td class='row_index'></td><th>subject</th><th>A_target_word_gd</th><th>A_target_word_fd</th><th>B_target_word_gd</th><th>B_target_word_fd</th><th>subject_type</th></tr>\n",
       "    <tr class='coltypes'><td class='row_index'></td><td class='int' title='int32'>&#x25AA;&#x25AA;&#x25AA;&#x25AA;</td><td class='int' title='int32'>&#x25AA;&#x25AA;&#x25AA;&#x25AA;</td><td class='int' title='int32'>&#x25AA;&#x25AA;&#x25AA;&#x25AA;</td><td class='int' title='int32'>&#x25AA;&#x25AA;&#x25AA;&#x25AA;</td><td class='int' title='int32'>&#x25AA;&#x25AA;&#x25AA;&#x25AA;</td><td class='str' title='str32'>&#x25AA;&#x25AA;&#x25AA;&#x25AA;</td></tr>\n",
       "  </thead>\n",
       "  <tbody>\n",
       "    <tr><td class='row_index'>0</td><td>1</td><td>1</td><td>2</td><td>3</td><td>4</td><td>mild</td></tr>\n",
       "    <tr><td class='row_index'>1</td><td>2</td><td>11</td><td>12</td><td>13</td><td>14</td><td>moderate</td></tr>\n",
       "  </tbody>\n",
       "  </table>\n",
       "  <div class='footer'>\n",
       "    <div class='frame_dimensions'>2 rows &times; 6 columns</div>\n",
       "  </div>\n",
       "</div>\n"
      ],
      "text/plain": [
       "<Frame#1154789f0 2x6>"
      ]
     },
     "execution_count": 21,
     "metadata": {},
     "output_type": "execute_result"
    }
   ],
   "source": [
    "DT = dt.Frame({'subject': [1, 2],\n",
    "                   'A_target_word_gd': [1, 11],\n",
    "                   'A_target_word_fd': [2, 12],\n",
    "                   'B_target_word_gd': [3, 13],\n",
    "                   'B_target_word_fd': [4, 14],\n",
    "                   'subject_type': ['mild', 'moderate']})\n",
    "\n",
    "\n",
    "DT"
   ]
  },
  {
   "cell_type": "code",
   "execution_count": 22,
   "metadata": {},
   "outputs": [
    {
     "data": {
      "text/html": [
       "<div class='datatable'>\n",
       "  <table class='frame'>\n",
       "  <thead>\n",
       "    <tr class='colnames'><td class='row_index'></td><th>subject</th><th>subject_type</th><th>cond</th><th>value_type</th><th>value</th></tr>\n",
       "    <tr class='coltypes'><td class='row_index'></td><td class='int' title='int32'>&#x25AA;&#x25AA;&#x25AA;&#x25AA;</td><td class='str' title='str32'>&#x25AA;&#x25AA;&#x25AA;&#x25AA;</td><td class='str' title='str32'>&#x25AA;&#x25AA;&#x25AA;&#x25AA;</td><td class='str' title='str32'>&#x25AA;&#x25AA;&#x25AA;&#x25AA;</td><td class='int' title='int32'>&#x25AA;&#x25AA;&#x25AA;&#x25AA;</td></tr>\n",
       "  </thead>\n",
       "  <tbody>\n",
       "    <tr><td class='row_index'>0</td><td>1</td><td>mild</td><td>A</td><td>gd</td><td>1</td></tr>\n",
       "    <tr><td class='row_index'>1</td><td>2</td><td>moderate</td><td>A</td><td>gd</td><td>11</td></tr>\n",
       "    <tr><td class='row_index'>2</td><td>1</td><td>mild</td><td>A</td><td>fd</td><td>2</td></tr>\n",
       "    <tr><td class='row_index'>3</td><td>2</td><td>moderate</td><td>A</td><td>fd</td><td>12</td></tr>\n",
       "    <tr><td class='row_index'>4</td><td>1</td><td>mild</td><td>B</td><td>gd</td><td>3</td></tr>\n",
       "    <tr><td class='row_index'>5</td><td>2</td><td>moderate</td><td>B</td><td>gd</td><td>13</td></tr>\n",
       "    <tr><td class='row_index'>6</td><td>1</td><td>mild</td><td>B</td><td>fd</td><td>4</td></tr>\n",
       "    <tr><td class='row_index'>7</td><td>2</td><td>moderate</td><td>B</td><td>fd</td><td>14</td></tr>\n",
       "  </tbody>\n",
       "  </table>\n",
       "  <div class='footer'>\n",
       "    <div class='frame_dimensions'>8 rows &times; 5 columns</div>\n",
       "  </div>\n",
       "</div>\n"
      ],
      "text/plain": [
       "<Frame#111c0ec30 8x5>"
      ]
     },
     "execution_count": 22,
     "metadata": {},
     "output_type": "execute_result"
    }
   ],
   "source": [
    "pat = \"(?P<cond>[A-Z]).*(?P<value_type>gd|fd)\"\n",
    "melt(DT, id_vars=[\"subject\", \"subject_type\"], variable_name=re.compile(pat))"
   ]
  },
  {
   "cell_type": "code",
   "execution_count": 23,
   "metadata": {},
   "outputs": [
    {
     "data": {
      "text/html": [
       "<div class='datatable'>\n",
       "  <table class='frame'>\n",
       "  <thead>\n",
       "    <tr class='colnames'><td class='row_index'></td><th>famid</th><th>birth</th><th>ht1</th><th>ht2</th></tr>\n",
       "    <tr class='coltypes'><td class='row_index'></td><td class='int' title='int32'>&#x25AA;&#x25AA;&#x25AA;&#x25AA;</td><td class='int' title='int32'>&#x25AA;&#x25AA;&#x25AA;&#x25AA;</td><td class='float' title='float64'>&#x25AA;&#x25AA;&#x25AA;&#x25AA;&#x25AA;&#x25AA;&#x25AA;&#x25AA;</td><td class='float' title='float64'>&#x25AA;&#x25AA;&#x25AA;&#x25AA;&#x25AA;&#x25AA;&#x25AA;&#x25AA;</td></tr>\n",
       "  </thead>\n",
       "  <tbody>\n",
       "    <tr><td class='row_index'>0</td><td>1</td><td>1</td><td>2.8</td><td>3.4</td></tr>\n",
       "    <tr><td class='row_index'>1</td><td>1</td><td>2</td><td>2.9</td><td>3.8</td></tr>\n",
       "    <tr><td class='row_index'>2</td><td>1</td><td>3</td><td>2.2</td><td>2.9</td></tr>\n",
       "    <tr><td class='row_index'>3</td><td>2</td><td>1</td><td>2</td><td>3.2</td></tr>\n",
       "    <tr><td class='row_index'>4</td><td>2</td><td>2</td><td>1.8</td><td>2.8</td></tr>\n",
       "    <tr><td class='row_index'>5</td><td>2</td><td>3</td><td>1.9</td><td>2.4</td></tr>\n",
       "    <tr><td class='row_index'>6</td><td>3</td><td>1</td><td>2.2</td><td>3.3</td></tr>\n",
       "    <tr><td class='row_index'>7</td><td>3</td><td>2</td><td>2.3</td><td>3.4</td></tr>\n",
       "    <tr><td class='row_index'>8</td><td>3</td><td>3</td><td>2.1</td><td>2.9</td></tr>\n",
       "  </tbody>\n",
       "  </table>\n",
       "  <div class='footer'>\n",
       "    <div class='frame_dimensions'>9 rows &times; 4 columns</div>\n",
       "  </div>\n",
       "</div>\n"
      ],
      "text/plain": [
       "<Frame#115468480 9x4>"
      ]
     },
     "execution_count": 23,
     "metadata": {},
     "output_type": "execute_result"
    }
   ],
   "source": [
    "DT = dt.Frame({\n",
    "    'famid': [1, 1, 1, 2, 2, 2, 3, 3, 3],\n",
    "    'birth': [1, 2, 3, 1, 2, 3, 1, 2, 3],\n",
    "    'ht1': [2.8, 2.9, 2.2, 2, 1.8, 1.9, 2.2, 2.3, 2.1],\n",
    "    'ht2': [3.4, 3.8, 2.9, 3.2, 2.8, 2.4, 3.3, 3.4, 2.9]\n",
    "})\n",
    "\n",
    "DT"
   ]
  },
  {
   "cell_type": "code",
   "execution_count": 24,
   "metadata": {},
   "outputs": [
    {
     "data": {
      "text/html": [
       "<div class='datatable'>\n",
       "  <table class='frame'>\n",
       "  <thead>\n",
       "    <tr class='colnames'><td class='row_index'></td><th>famid</th><th>birth</th><th>ht1</th><th>ht2</th></tr>\n",
       "    <tr class='coltypes'><td class='row_index'></td><td class='int' title='int32'>&#x25AA;&#x25AA;&#x25AA;&#x25AA;</td><td class='int' title='int32'>&#x25AA;&#x25AA;&#x25AA;&#x25AA;</td><td class='float' title='float64'>&#x25AA;&#x25AA;&#x25AA;&#x25AA;&#x25AA;&#x25AA;&#x25AA;&#x25AA;</td><td class='float' title='float64'>&#x25AA;&#x25AA;&#x25AA;&#x25AA;&#x25AA;&#x25AA;&#x25AA;&#x25AA;</td></tr>\n",
       "  </thead>\n",
       "  <tbody>\n",
       "    <tr><td class='row_index'>0</td><td>1</td><td>1</td><td>2.8</td><td>3.4</td></tr>\n",
       "    <tr><td class='row_index'>1</td><td>1</td><td>2</td><td>2.9</td><td>3.8</td></tr>\n",
       "    <tr><td class='row_index'>2</td><td>1</td><td>3</td><td>2.2</td><td>2.9</td></tr>\n",
       "    <tr><td class='row_index'>3</td><td>2</td><td>1</td><td>2</td><td>3.2</td></tr>\n",
       "    <tr><td class='row_index'>4</td><td>2</td><td>2</td><td>1.8</td><td>2.8</td></tr>\n",
       "    <tr><td class='row_index'>5</td><td>2</td><td>3</td><td>1.9</td><td>2.4</td></tr>\n",
       "    <tr><td class='row_index'>6</td><td>3</td><td>1</td><td>2.2</td><td>3.3</td></tr>\n",
       "    <tr><td class='row_index'>7</td><td>3</td><td>2</td><td>2.3</td><td>3.4</td></tr>\n",
       "    <tr><td class='row_index'>8</td><td>3</td><td>3</td><td>2.1</td><td>2.9</td></tr>\n",
       "    <tr><td class='row_index'>9</td><td>1</td><td>1</td><td>2.8</td><td>3.4</td></tr>\n",
       "    <tr><td class='row_index'>10</td><td>1</td><td>2</td><td>2.9</td><td>3.8</td></tr>\n",
       "    <tr><td class='row_index'>11</td><td>1</td><td>3</td><td>2.2</td><td>2.9</td></tr>\n",
       "    <tr><td class='row_index'>12</td><td>2</td><td>1</td><td>2</td><td>3.2</td></tr>\n",
       "    <tr><td class='row_index'>13</td><td>2</td><td>2</td><td>1.8</td><td>2.8</td></tr>\n",
       "    <tr><td class='row_index'>14</td><td>2</td><td>3</td><td>1.9</td><td>2.4</td></tr>\n",
       "    <tr><td class='row_index'>&#x22EE;</td><td class='hellipsis'>&#x22EE;</td><td class='hellipsis'>&#x22EE;</td><td class='hellipsis'>&#x22EE;</td><td class='hellipsis'>&#x22EE;</td></tr>\n",
       "    <tr><td class='row_index'>89,995</td><td>2</td><td>2</td><td>1.8</td><td>2.8</td></tr>\n",
       "    <tr><td class='row_index'>89,996</td><td>2</td><td>3</td><td>1.9</td><td>2.4</td></tr>\n",
       "    <tr><td class='row_index'>89,997</td><td>3</td><td>1</td><td>2.2</td><td>3.3</td></tr>\n",
       "    <tr><td class='row_index'>89,998</td><td>3</td><td>2</td><td>2.3</td><td>3.4</td></tr>\n",
       "    <tr><td class='row_index'>89,999</td><td>3</td><td>3</td><td>2.1</td><td>2.9</td></tr>\n",
       "  </tbody>\n",
       "  </table>\n",
       "  <div class='footer'>\n",
       "    <div class='frame_dimensions'>90,000 rows &times; 4 columns</div>\n",
       "  </div>\n",
       "</div>\n"
      ],
      "text/plain": [
       "<Frame#115468cf0 90000x4>"
      ]
     },
     "execution_count": 24,
     "metadata": {},
     "output_type": "execute_result"
    }
   ],
   "source": [
    "DT = dt.repeat(DT, 10_000)\n",
    "DT"
   ]
  },
  {
   "cell_type": "code",
   "execution_count": 25,
   "metadata": {},
   "outputs": [
    {
     "data": {
      "text/html": [
       "<div class='datatable'>\n",
       "  <table class='frame'>\n",
       "  <thead>\n",
       "    <tr class='colnames'><td class='row_index'></td><th>famid</th><th>birth</th><th>age</th><th>ht</th></tr>\n",
       "    <tr class='coltypes'><td class='row_index'></td><td class='int' title='int32'>&#x25AA;&#x25AA;&#x25AA;&#x25AA;</td><td class='int' title='int32'>&#x25AA;&#x25AA;&#x25AA;&#x25AA;</td><td class='str' title='str32'>&#x25AA;&#x25AA;&#x25AA;&#x25AA;</td><td class='float' title='float64'>&#x25AA;&#x25AA;&#x25AA;&#x25AA;&#x25AA;&#x25AA;&#x25AA;&#x25AA;</td></tr>\n",
       "  </thead>\n",
       "  <tbody>\n",
       "    <tr><td class='row_index'>0</td><td>1</td><td>1</td><td>1</td><td>2.8</td></tr>\n",
       "    <tr><td class='row_index'>1</td><td>1</td><td>2</td><td>1</td><td>2.9</td></tr>\n",
       "    <tr><td class='row_index'>2</td><td>1</td><td>3</td><td>1</td><td>2.2</td></tr>\n",
       "    <tr><td class='row_index'>3</td><td>2</td><td>1</td><td>1</td><td>2</td></tr>\n",
       "    <tr><td class='row_index'>4</td><td>2</td><td>2</td><td>1</td><td>1.8</td></tr>\n",
       "    <tr><td class='row_index'>5</td><td>2</td><td>3</td><td>1</td><td>1.9</td></tr>\n",
       "    <tr><td class='row_index'>6</td><td>3</td><td>1</td><td>1</td><td>2.2</td></tr>\n",
       "    <tr><td class='row_index'>7</td><td>3</td><td>2</td><td>1</td><td>2.3</td></tr>\n",
       "    <tr><td class='row_index'>8</td><td>3</td><td>3</td><td>1</td><td>2.1</td></tr>\n",
       "    <tr><td class='row_index'>9</td><td>1</td><td>1</td><td>1</td><td>2.8</td></tr>\n",
       "    <tr><td class='row_index'>10</td><td>1</td><td>2</td><td>1</td><td>2.9</td></tr>\n",
       "    <tr><td class='row_index'>11</td><td>1</td><td>3</td><td>1</td><td>2.2</td></tr>\n",
       "    <tr><td class='row_index'>12</td><td>2</td><td>1</td><td>1</td><td>2</td></tr>\n",
       "    <tr><td class='row_index'>13</td><td>2</td><td>2</td><td>1</td><td>1.8</td></tr>\n",
       "    <tr><td class='row_index'>14</td><td>2</td><td>3</td><td>1</td><td>1.9</td></tr>\n",
       "    <tr><td class='row_index'>&#x22EE;</td><td class='hellipsis'>&#x22EE;</td><td class='hellipsis'>&#x22EE;</td><td class='hellipsis'>&#x22EE;</td><td class='hellipsis'>&#x22EE;</td></tr>\n",
       "    <tr><td class='row_index'>179,995</td><td>2</td><td>2</td><td>2</td><td>2.8</td></tr>\n",
       "    <tr><td class='row_index'>179,996</td><td>2</td><td>3</td><td>2</td><td>2.4</td></tr>\n",
       "    <tr><td class='row_index'>179,997</td><td>3</td><td>1</td><td>2</td><td>3.3</td></tr>\n",
       "    <tr><td class='row_index'>179,998</td><td>3</td><td>2</td><td>2</td><td>3.4</td></tr>\n",
       "    <tr><td class='row_index'>179,999</td><td>3</td><td>3</td><td>2</td><td>2.9</td></tr>\n",
       "  </tbody>\n",
       "  </table>\n",
       "  <div class='footer'>\n",
       "    <div class='frame_dimensions'>180,000 rows &times; 4 columns</div>\n",
       "  </div>\n",
       "</div>\n"
      ],
      "text/plain": [
       "<Frame#111b98150 180000x4>"
      ]
     },
     "execution_count": 25,
     "metadata": {},
     "output_type": "execute_result"
    }
   ],
   "source": [
    "melt(DT, id_vars = ['famid', 'birth'], variable_name=(['.value', 'age'], None, r\"(.+)(.)\"))"
   ]
  },
  {
   "cell_type": "code",
   "execution_count": 26,
   "metadata": {},
   "outputs": [
    {
     "data": {
      "text/html": [
       "<div class='datatable'>\n",
       "  <table class='frame'>\n",
       "  <thead>\n",
       "    <tr class='colnames'><td class='row_index'></td><th>id</th><th>ax</th><th>ay</th><th>az</th><th>bx</th><th>by</th><th>bz</th></tr>\n",
       "    <tr class='coltypes'><td class='row_index'></td><td class='int' title='int32'>&#x25AA;&#x25AA;&#x25AA;&#x25AA;</td><td class='int' title='int32'>&#x25AA;&#x25AA;&#x25AA;&#x25AA;</td><td class='int' title='int32'>&#x25AA;&#x25AA;&#x25AA;&#x25AA;</td><td class='int' title='int32'>&#x25AA;&#x25AA;&#x25AA;&#x25AA;</td><td class='int' title='int32'>&#x25AA;&#x25AA;&#x25AA;&#x25AA;</td><td class='int' title='int32'>&#x25AA;&#x25AA;&#x25AA;&#x25AA;</td><td class='int' title='int32'>&#x25AA;&#x25AA;&#x25AA;&#x25AA;</td></tr>\n",
       "  </thead>\n",
       "  <tbody>\n",
       "    <tr><td class='row_index'>0</td><td>1</td><td>1</td><td>2</td><td>3</td><td>4</td><td>5</td><td>6</td></tr>\n",
       "    <tr><td class='row_index'>1</td><td>2</td><td>7</td><td>8</td><td>9</td><td>10</td><td>11</td><td>12</td></tr>\n",
       "  </tbody>\n",
       "  </table>\n",
       "  <div class='footer'>\n",
       "    <div class='frame_dimensions'>2 rows &times; 7 columns</div>\n",
       "  </div>\n",
       "</div>\n"
      ],
      "text/plain": [
       "<Frame#115478750 2x7>"
      ]
     },
     "execution_count": 26,
     "metadata": {},
     "output_type": "execute_result"
    }
   ],
   "source": [
    "DT = dt.Frame([(1,1,2,3,4,5,6), (2,7,8,9,10,11,12)],\n",
    "                  names=['id', 'ax','ay','az','bx','by','bz'])\n",
    "\n",
    "\n",
    "DT"
   ]
  },
  {
   "cell_type": "code",
   "execution_count": 27,
   "metadata": {},
   "outputs": [
    {
     "data": {
      "text/html": [
       "<div class='datatable'>\n",
       "  <table class='frame'>\n",
       "  <thead>\n",
       "    <tr class='colnames'><td class='row_index'></td><th>id</th><th>name</th><th>x</th><th>y</th><th>z</th></tr>\n",
       "    <tr class='coltypes'><td class='row_index'></td><td class='int' title='int32'>&#x25AA;&#x25AA;&#x25AA;&#x25AA;</td><td class='str' title='str32'>&#x25AA;&#x25AA;&#x25AA;&#x25AA;</td><td class='int' title='int32'>&#x25AA;&#x25AA;&#x25AA;&#x25AA;</td><td class='int' title='int32'>&#x25AA;&#x25AA;&#x25AA;&#x25AA;</td><td class='int' title='int32'>&#x25AA;&#x25AA;&#x25AA;&#x25AA;</td></tr>\n",
       "  </thead>\n",
       "  <tbody>\n",
       "    <tr><td class='row_index'>0</td><td>1</td><td>a</td><td>1</td><td>2</td><td>3</td></tr>\n",
       "    <tr><td class='row_index'>1</td><td>2</td><td>a</td><td>7</td><td>8</td><td>9</td></tr>\n",
       "    <tr><td class='row_index'>2</td><td>1</td><td>b</td><td>4</td><td>5</td><td>6</td></tr>\n",
       "    <tr><td class='row_index'>3</td><td>2</td><td>b</td><td>10</td><td>11</td><td>12</td></tr>\n",
       "  </tbody>\n",
       "  </table>\n",
       "  <div class='footer'>\n",
       "    <div class='frame_dimensions'>4 rows &times; 5 columns</div>\n",
       "  </div>\n",
       "</div>\n"
      ],
      "text/plain": [
       "<Frame#115478630 4x5>"
      ]
     },
     "execution_count": 27,
     "metadata": {},
     "output_type": "execute_result"
    }
   ],
   "source": [
    "melt(DT, id_vars='id', variable_name=(['name', '.value'], None, '(.)(.)'))"
   ]
  },
  {
   "cell_type": "code",
   "execution_count": 28,
   "metadata": {},
   "outputs": [
    {
     "data": {
      "text/html": [
       "<div class='datatable'>\n",
       "  <table class='frame'>\n",
       "  <thead>\n",
       "    <tr class='colnames'><td class='row_index'></td><th>id</th><th>A1g_hi</th><th>A2g_hi</th><th>A3g_hi</th><th>A4g_hi</th></tr>\n",
       "    <tr class='coltypes'><td class='row_index'></td><td class='int' title='int8'>&#x25AA;</td><td class='int' title='int32'>&#x25AA;&#x25AA;&#x25AA;&#x25AA;</td><td class='int' title='int32'>&#x25AA;&#x25AA;&#x25AA;&#x25AA;</td><td class='int' title='int32'>&#x25AA;&#x25AA;&#x25AA;&#x25AA;</td><td class='int' title='int32'>&#x25AA;&#x25AA;&#x25AA;&#x25AA;</td></tr>\n",
       "  </thead>\n",
       "  <tbody>\n",
       "    <tr><td class='row_index'>0</td><td>1</td><td>2</td><td>3</td><td>4</td><td>5</td></tr>\n",
       "  </tbody>\n",
       "  </table>\n",
       "  <div class='footer'>\n",
       "    <div class='frame_dimensions'>1 row &times; 5 columns</div>\n",
       "  </div>\n",
       "</div>\n"
      ],
      "text/plain": [
       "<Frame#115478090 1x5>"
      ]
     },
     "execution_count": 28,
     "metadata": {},
     "output_type": "execute_result"
    }
   ],
   "source": [
    "DT = dt.Frame([{'id': 1, 'A1g_hi': 2, \n",
    "                    'A2g_hi': 3, 'A3g_hi': 4, \n",
    "                    'A4g_hi': 5}])\n",
    "\n",
    "DT"
   ]
  },
  {
   "cell_type": "code",
   "execution_count": 29,
   "metadata": {},
   "outputs": [
    {
     "data": {
      "text/html": [
       "<div class='datatable'>\n",
       "  <table class='frame'>\n",
       "  <thead>\n",
       "    <tr class='colnames'><td class='row_index'></td><th>id</th><th>time</th><th>hi</th></tr>\n",
       "    <tr class='coltypes'><td class='row_index'></td><td class='int' title='int8'>&#x25AA;</td><td class='str' title='str32'>&#x25AA;&#x25AA;&#x25AA;&#x25AA;</td><td class='int' title='int32'>&#x25AA;&#x25AA;&#x25AA;&#x25AA;</td></tr>\n",
       "  </thead>\n",
       "  <tbody>\n",
       "    <tr><td class='row_index'>0</td><td>1</td><td>1</td><td>2</td></tr>\n",
       "    <tr><td class='row_index'>1</td><td>1</td><td>2</td><td>3</td></tr>\n",
       "    <tr><td class='row_index'>2</td><td>1</td><td>3</td><td>4</td></tr>\n",
       "    <tr><td class='row_index'>3</td><td>1</td><td>4</td><td>5</td></tr>\n",
       "  </tbody>\n",
       "  </table>\n",
       "  <div class='footer'>\n",
       "    <div class='frame_dimensions'>4 rows &times; 3 columns</div>\n",
       "  </div>\n",
       "</div>\n"
      ],
      "text/plain": [
       "<Frame#115468660 4x3>"
      ]
     },
     "execution_count": 29,
     "metadata": {},
     "output_type": "execute_result"
    }
   ],
   "source": [
    "melt(DT, id_vars='id', variable_name=(['time', '.value'], None, \"A(.)g_(.+)\"))"
   ]
  },
  {
   "cell_type": "code",
   "execution_count": 30,
   "metadata": {},
   "outputs": [
    {
     "data": {
      "text/html": [
       "<div class='datatable'>\n",
       "  <table class='frame'>\n",
       "  <thead>\n",
       "    <tr class='colnames'><td class='row_index'></td><th>Sony | TV | Model | value</th><th>Sony | TV | Quantity | value</th><th>Sony | TV | Max-quant | value</th><th>Panasonic | TV | Model | value</th><th>Panasonic | TV | Quantity | value</th><th>Panasonic | TV | Max-quant | value</th><th>Sanyo | Radio | Model | value</th><th>Sanyo | Radio | Quantity | value</th><th>Sanyo | Radio | Max-quant | value</th></tr>\n",
       "    <tr class='coltypes'><td class='row_index'></td><td class='str' title='str32'>&#x25AA;&#x25AA;&#x25AA;&#x25AA;</td><td class='int' title='int32'>&#x25AA;&#x25AA;&#x25AA;&#x25AA;</td><td class='int' title='int32'>&#x25AA;&#x25AA;&#x25AA;&#x25AA;</td><td class='str' title='str32'>&#x25AA;&#x25AA;&#x25AA;&#x25AA;</td><td class='int' title='int32'>&#x25AA;&#x25AA;&#x25AA;&#x25AA;</td><td class='int' title='int32'>&#x25AA;&#x25AA;&#x25AA;&#x25AA;</td><td class='str' title='str32'>&#x25AA;&#x25AA;&#x25AA;&#x25AA;</td><td class='int' title='int32'>&#x25AA;&#x25AA;&#x25AA;&#x25AA;</td><td class='int' title='int32'>&#x25AA;&#x25AA;&#x25AA;&#x25AA;</td></tr>\n",
       "  </thead>\n",
       "  <tbody>\n",
       "    <tr><td class='row_index'>0</td><td>A222</td><td>5</td><td>10</td><td>T232</td><td>1</td><td>10</td><td>S111</td><td>4</td><td>9</td></tr>\n",
       "    <tr><td class='row_index'>1</td><td>A234</td><td>5</td><td>9</td><td>S3424</td><td>5</td><td>12</td><td>S1s1</td><td>2</td><td>9</td></tr>\n",
       "    <tr><td class='row_index'>2</td><td>A4345</td><td>4</td><td>9</td><td>X3421</td><td>1</td><td>11</td><td>S1s2</td><td>4</td><td>10</td></tr>\n",
       "  </tbody>\n",
       "  </table>\n",
       "  <div class='footer'>\n",
       "    <div class='frame_dimensions'>3 rows &times; 9 columns</div>\n",
       "  </div>\n",
       "</div>\n"
      ],
      "text/plain": [
       "<Frame#111b9fea0 3x9>"
      ]
     },
     "execution_count": 30,
     "metadata": {},
     "output_type": "execute_result"
    }
   ],
   "source": [
    "DT = dt.Frame(\n",
    "    [{'Sony | TV | Model | value': 'A222',\n",
    "  'Sony | TV | Quantity | value': 5,\n",
    "  'Sony | TV | Max-quant | value': 10,\n",
    "  'Panasonic | TV | Model | value': 'T232',\n",
    "  'Panasonic | TV | Quantity | value': 1,\n",
    "  'Panasonic | TV | Max-quant | value': 10,\n",
    "  'Sanyo | Radio | Model | value': 'S111',\n",
    "  'Sanyo | Radio | Quantity | value': 4,\n",
    "  'Sanyo | Radio | Max-quant | value': 9},\n",
    " {'Sony | TV | Model | value': 'A234',\n",
    "  'Sony | TV | Quantity | value': 5,\n",
    "  'Sony | TV | Max-quant | value': 9,\n",
    "  'Panasonic | TV | Model | value': 'S3424',\n",
    "  'Panasonic | TV | Quantity | value': 5,\n",
    "  'Panasonic | TV | Max-quant | value': 12,\n",
    "  'Sanyo | Radio | Model | value': 'S1s1',\n",
    "  'Sanyo | Radio | Quantity | value': 2,\n",
    "  'Sanyo | Radio | Max-quant | value': 9},\n",
    " {'Sony | TV | Model | value': 'A4345',\n",
    "  'Sony | TV | Quantity | value': 4,\n",
    "  'Sony | TV | Max-quant | value': 9,\n",
    "  'Panasonic | TV | Model | value': 'X3421',\n",
    "  'Panasonic | TV | Quantity | value': 1,\n",
    "  'Panasonic | TV | Max-quant | value': 11,\n",
    "  'Sanyo | Radio | Model | value': 'S1s2',\n",
    "  'Sanyo | Radio | Quantity | value': 4,\n",
    "  'Sanyo | Radio | Max-quant | value': 10}]\n",
    ")\n",
    "\n",
    "DT"
   ]
  },
  {
   "cell_type": "code",
   "execution_count": 31,
   "metadata": {},
   "outputs": [
    {
     "data": {
      "text/html": [
       "<div class='datatable'>\n",
       "  <table class='frame'>\n",
       "  <thead>\n",
       "    <tr class='colnames'><td class='row_index'></td><th>Manufacturer</th><th>Device</th><th> Model </th><th> Quantity </th><th> Max-quant </th></tr>\n",
       "    <tr class='coltypes'><td class='row_index'></td><td class='str' title='str32'>&#x25AA;&#x25AA;&#x25AA;&#x25AA;</td><td class='str' title='str32'>&#x25AA;&#x25AA;&#x25AA;&#x25AA;</td><td class='str' title='str32'>&#x25AA;&#x25AA;&#x25AA;&#x25AA;</td><td class='int' title='int32'>&#x25AA;&#x25AA;&#x25AA;&#x25AA;</td><td class='int' title='int32'>&#x25AA;&#x25AA;&#x25AA;&#x25AA;</td></tr>\n",
       "  </thead>\n",
       "  <tbody>\n",
       "    <tr><td class='row_index'>0</td><td>Sony </td><td> TV </td><td>A222</td><td>5</td><td>10</td></tr>\n",
       "    <tr><td class='row_index'>1</td><td>Sony </td><td> TV </td><td>A234</td><td>5</td><td>9</td></tr>\n",
       "    <tr><td class='row_index'>2</td><td>Sony </td><td> TV </td><td>A4345</td><td>4</td><td>9</td></tr>\n",
       "    <tr><td class='row_index'>3</td><td>Panasonic </td><td> TV </td><td>T232</td><td>1</td><td>10</td></tr>\n",
       "    <tr><td class='row_index'>4</td><td>Panasonic </td><td> TV </td><td>S3424</td><td>5</td><td>12</td></tr>\n",
       "    <tr><td class='row_index'>5</td><td>Panasonic </td><td> TV </td><td>X3421</td><td>1</td><td>11</td></tr>\n",
       "    <tr><td class='row_index'>6</td><td>Sanyo </td><td> Radio </td><td>S111</td><td>4</td><td>9</td></tr>\n",
       "    <tr><td class='row_index'>7</td><td>Sanyo </td><td> Radio </td><td>S1s1</td><td>2</td><td>9</td></tr>\n",
       "    <tr><td class='row_index'>8</td><td>Sanyo </td><td> Radio </td><td>S1s2</td><td>4</td><td>10</td></tr>\n",
       "  </tbody>\n",
       "  </table>\n",
       "  <div class='footer'>\n",
       "    <div class='frame_dimensions'>9 rows &times; 5 columns</div>\n",
       "  </div>\n",
       "</div>\n"
      ],
      "text/plain": [
       "<Frame#115451ae0 9x5>"
      ]
     },
     "execution_count": 31,
     "metadata": {},
     "output_type": "execute_result"
    }
   ],
   "source": [
    "melt(DT, variable_name=([\"Manufacturer\", \"Device\", \".value\"], None, r\"(.+)\\|(.+)\\|(.+)\\|.*\"))"
   ]
  },
  {
   "cell_type": "code",
   "execution_count": 32,
   "metadata": {},
   "outputs": [
    {
     "data": {
      "text/html": [
       "<div class='datatable'>\n",
       "  <table class='frame'>\n",
       "  <thead>\n",
       "    <tr class='colnames'><td class='row_index'></td><th>first</th><th>last</th><th>height</th><th>weight</th></tr>\n",
       "    <tr class='coltypes'><td class='row_index'></td><td class='str' title='str32'>&#x25AA;&#x25AA;&#x25AA;&#x25AA;</td><td class='str' title='str32'>&#x25AA;&#x25AA;&#x25AA;&#x25AA;</td><td class='float' title='float64'>&#x25AA;&#x25AA;&#x25AA;&#x25AA;&#x25AA;&#x25AA;&#x25AA;&#x25AA;</td><td class='int' title='int32'>&#x25AA;&#x25AA;&#x25AA;&#x25AA;</td></tr>\n",
       "  </thead>\n",
       "  <tbody>\n",
       "    <tr><td class='row_index'>0</td><td>John</td><td>Doe</td><td>5.5</td><td>130</td></tr>\n",
       "    <tr><td class='row_index'>1</td><td>Mary</td><td>Bo</td><td>6</td><td>150</td></tr>\n",
       "  </tbody>\n",
       "  </table>\n",
       "  <div class='footer'>\n",
       "    <div class='frame_dimensions'>2 rows &times; 4 columns</div>\n",
       "  </div>\n",
       "</div>\n"
      ],
      "text/plain": [
       "<Frame#111bbb870 2x4>"
      ]
     },
     "execution_count": 32,
     "metadata": {},
     "output_type": "execute_result"
    }
   ],
   "source": [
    "DT = dt.Frame({'first': ['John', 'Mary'],\n",
    "                   'last': ['Doe', 'Bo'],\n",
    "                   'height': [5.5, 6.0],\n",
    "                   'weight': [130, 150]})\n",
    "DT"
   ]
  },
  {
   "cell_type": "code",
   "execution_count": 33,
   "metadata": {},
   "outputs": [
    {
     "data": {
      "text/html": [
       "<div class='datatable'>\n",
       "  <table class='frame'>\n",
       "  <thead>\n",
       "    <tr class='colnames'><td class='row_index'></td><th>variable</th><th>value</th></tr>\n",
       "    <tr class='coltypes'><td class='row_index'></td><td class='str' title='str32'>&#x25AA;&#x25AA;&#x25AA;&#x25AA;</td><td class='str' title='str32'>&#x25AA;&#x25AA;&#x25AA;&#x25AA;</td></tr>\n",
       "  </thead>\n",
       "  <tbody>\n",
       "    <tr><td class='row_index'>0</td><td>first</td><td>John</td></tr>\n",
       "    <tr><td class='row_index'>1</td><td>first</td><td>Mary</td></tr>\n",
       "    <tr><td class='row_index'>2</td><td>last</td><td>Doe</td></tr>\n",
       "    <tr><td class='row_index'>3</td><td>last</td><td>Bo</td></tr>\n",
       "    <tr><td class='row_index'>4</td><td>height</td><td>5.5</td></tr>\n",
       "    <tr><td class='row_index'>5</td><td>height</td><td>6.0</td></tr>\n",
       "    <tr><td class='row_index'>6</td><td>weight</td><td>130</td></tr>\n",
       "    <tr><td class='row_index'>7</td><td>weight</td><td>150</td></tr>\n",
       "  </tbody>\n",
       "  </table>\n",
       "  <div class='footer'>\n",
       "    <div class='frame_dimensions'>8 rows &times; 2 columns</div>\n",
       "  </div>\n",
       "</div>\n"
      ],
      "text/plain": [
       "<Frame#115451570 8x2>"
      ]
     },
     "execution_count": 33,
     "metadata": {},
     "output_type": "execute_result"
    }
   ],
   "source": [
    "melt(DT)"
   ]
  },
  {
   "cell_type": "code",
   "execution_count": 34,
   "metadata": {},
   "outputs": [
    {
     "data": {
      "text/plain": [
       "(stype.str32, stype.str32)"
      ]
     },
     "execution_count": 34,
     "metadata": {},
     "output_type": "execute_result"
    }
   ],
   "source": [
    "melt(DT).stypes"
   ]
  },
  {
   "cell_type": "code",
   "execution_count": 35,
   "metadata": {},
   "outputs": [
    {
     "data": {
      "text/html": [
       "<div class='datatable'>\n",
       "  <table class='frame'>\n",
       "  <thead>\n",
       "    <tr class='colnames'><td class='row_index'></td><th>first</th><th>last</th><th>variable</th><th>value</th></tr>\n",
       "    <tr class='coltypes'><td class='row_index'></td><td class='str' title='str32'>&#x25AA;&#x25AA;&#x25AA;&#x25AA;</td><td class='str' title='str32'>&#x25AA;&#x25AA;&#x25AA;&#x25AA;</td><td class='str' title='str32'>&#x25AA;&#x25AA;&#x25AA;&#x25AA;</td><td class='float' title='float64'>&#x25AA;&#x25AA;&#x25AA;&#x25AA;&#x25AA;&#x25AA;&#x25AA;&#x25AA;</td></tr>\n",
       "  </thead>\n",
       "  <tbody>\n",
       "    <tr><td class='row_index'>0</td><td>John</td><td>Doe</td><td>height</td><td>5.5</td></tr>\n",
       "    <tr><td class='row_index'>1</td><td>Mary</td><td>Bo</td><td>height</td><td>6</td></tr>\n",
       "    <tr><td class='row_index'>2</td><td>John</td><td>Doe</td><td>weight</td><td>130</td></tr>\n",
       "    <tr><td class='row_index'>3</td><td>Mary</td><td>Bo</td><td>weight</td><td>150</td></tr>\n",
       "  </tbody>\n",
       "  </table>\n",
       "  <div class='footer'>\n",
       "    <div class='frame_dimensions'>4 rows &times; 4 columns</div>\n",
       "  </div>\n",
       "</div>\n"
      ],
      "text/plain": [
       "<Frame#111b921e0 4x4>"
      ]
     },
     "execution_count": 35,
     "metadata": {},
     "output_type": "execute_result"
    }
   ],
   "source": [
    "melt(DT, id_vars=['first', 'last'])"
   ]
  },
  {
   "cell_type": "code",
   "execution_count": 36,
   "metadata": {},
   "outputs": [
    {
     "data": {
      "text/html": [
       "<div class='datatable'>\n",
       "  <table class='frame'>\n",
       "  <thead>\n",
       "    <tr class='colnames'><td class='row_index'></td><th>year</th><th>artist</th><th>track</th><th>time</th><th>date.entered</th><th>week</th><th>value</th></tr>\n",
       "    <tr class='coltypes'><td class='row_index'></td><td class='int' title='int32'>&#x25AA;&#x25AA;&#x25AA;&#x25AA;</td><td class='str' title='str32'>&#x25AA;&#x25AA;&#x25AA;&#x25AA;</td><td class='str' title='str32'>&#x25AA;&#x25AA;&#x25AA;&#x25AA;</td><td class='str' title='str32'>&#x25AA;&#x25AA;&#x25AA;&#x25AA;</td><td class='time' title='date32'>&#x25AA;&#x25AA;&#x25AA;&#x25AA;</td><td class='str' title='str32'>&#x25AA;&#x25AA;&#x25AA;&#x25AA;</td><td class='int' title='int32'>&#x25AA;&#x25AA;&#x25AA;&#x25AA;</td></tr>\n",
       "  </thead>\n",
       "  <tbody>\n",
       "    <tr><td class='row_index'>0</td><td>2000</td><td>2 Pac</td><td>Baby Don't Cry (Keep...</td><td>4:22</td><td>2000-02-26</td><td>wk1</td><td>87</td></tr>\n",
       "    <tr><td class='row_index'>1</td><td>2000</td><td>2Ge+her</td><td>The Hardest Part Of ...</td><td>3:15</td><td>2000-09-02</td><td>wk1</td><td>91</td></tr>\n",
       "    <tr><td class='row_index'>2</td><td>2000</td><td>3 Doors Down</td><td>Kryptonite</td><td>3:53</td><td>2000-04-08</td><td>wk1</td><td>81</td></tr>\n",
       "    <tr><td class='row_index'>3</td><td>2000</td><td>3 Doors Down</td><td>Loser</td><td>4:24</td><td>2000-10-21</td><td>wk1</td><td>76</td></tr>\n",
       "    <tr><td class='row_index'>4</td><td>2000</td><td>504 Boyz</td><td>Wobble Wobble</td><td>3:35</td><td>2000-04-15</td><td>wk1</td><td>57</td></tr>\n",
       "    <tr><td class='row_index'>5</td><td>2000</td><td>98^0</td><td>Give Me Just One Nig...</td><td>3:24</td><td>2000-08-19</td><td>wk1</td><td>51</td></tr>\n",
       "    <tr><td class='row_index'>6</td><td>2000</td><td>A*Teens</td><td>Dancing Queen</td><td>3:44</td><td>2000-07-08</td><td>wk1</td><td>97</td></tr>\n",
       "    <tr><td class='row_index'>7</td><td>2000</td><td>Aaliyah</td><td>I Don't Wanna</td><td>4:15</td><td>2000-01-29</td><td>wk1</td><td>84</td></tr>\n",
       "    <tr><td class='row_index'>8</td><td>2000</td><td>Aaliyah</td><td>Try Again</td><td>4:03</td><td>2000-03-18</td><td>wk1</td><td>59</td></tr>\n",
       "    <tr><td class='row_index'>9</td><td>2000</td><td>Adams, Yolanda</td><td>Open My Heart</td><td>5:30</td><td>2000-08-26</td><td>wk1</td><td>76</td></tr>\n",
       "    <tr><td class='row_index'>10</td><td>2000</td><td>Adkins, Trace</td><td>More</td><td>3:05</td><td>2000-04-29</td><td>wk1</td><td>84</td></tr>\n",
       "    <tr><td class='row_index'>11</td><td>2000</td><td>Aguilera, Christina</td><td>Come On Over Baby (A...</td><td>3:38</td><td>2000-08-05</td><td>wk1</td><td>57</td></tr>\n",
       "    <tr><td class='row_index'>12</td><td>2000</td><td>Aguilera, Christina</td><td>I Turn To You</td><td>4:00</td><td>2000-04-15</td><td>wk1</td><td>50</td></tr>\n",
       "    <tr><td class='row_index'>13</td><td>2000</td><td>Aguilera, Christina</td><td>What A Girl Wants</td><td>3:18</td><td>1999-11-27</td><td>wk1</td><td>71</td></tr>\n",
       "    <tr><td class='row_index'>14</td><td>2000</td><td>Alice Deejay</td><td>Better Off Alone</td><td>6:50</td><td>2000-04-08</td><td>wk1</td><td>79</td></tr>\n",
       "    <tr><td class='row_index'>&#x22EE;</td><td class='hellipsis'>&#x22EE;</td><td class='hellipsis'>&#x22EE;</td><td class='hellipsis'>&#x22EE;</td><td class='hellipsis'>&#x22EE;</td><td class='hellipsis'>&#x22EE;</td><td class='hellipsis'>&#x22EE;</td><td class='hellipsis'>&#x22EE;</td></tr>\n",
       "    <tr><td class='row_index'>24,087</td><td>2000</td><td>Yankee Grey</td><td>Another Nine Minutes</td><td>3:10</td><td>2000-04-29</td><td>wk76</td><td><span class=na>NA</span></td></tr>\n",
       "    <tr><td class='row_index'>24,088</td><td>2000</td><td>Yearwood, Trisha</td><td>Real Live Woman</td><td>3:55</td><td>2000-04-01</td><td>wk76</td><td><span class=na>NA</span></td></tr>\n",
       "    <tr><td class='row_index'>24,089</td><td>2000</td><td>Ying Yang Twins</td><td>Whistle While You Tw...</td><td>4:19</td><td>2000-03-18</td><td>wk76</td><td><span class=na>NA</span></td></tr>\n",
       "    <tr><td class='row_index'>24,090</td><td>2000</td><td>Zombie Nation</td><td>Kernkraft 400</td><td>3:30</td><td>2000-09-02</td><td>wk76</td><td><span class=na>NA</span></td></tr>\n",
       "    <tr><td class='row_index'>24,091</td><td>2000</td><td>matchbox twenty</td><td>Bent</td><td>4:12</td><td>2000-04-29</td><td>wk76</td><td><span class=na>NA</span></td></tr>\n",
       "  </tbody>\n",
       "  </table>\n",
       "  <div class='footer'>\n",
       "    <div class='frame_dimensions'>24,092 rows &times; 7 columns</div>\n",
       "  </div>\n",
       "</div>\n"
      ],
      "text/plain": [
       "<Frame#115478d80 24092x7>"
      ]
     },
     "execution_count": 36,
     "metadata": {},
     "output_type": "execute_result"
    }
   ],
   "source": [
    "url = 'https://raw.githubusercontent.com/tidyverse/tidyr/main/data-raw/billboard.csv'\n",
    "DT = dt.fread(url)\n",
    "measure_vars = [name for name in DT.names if name.startswith('wk')]\n",
    "melt(DT, measure_vars=measure_vars, variable_name='week')"
   ]
  },
  {
   "cell_type": "code",
   "execution_count": 37,
   "metadata": {},
   "outputs": [
    {
     "data": {
      "text/html": [
       "<div class='datatable'>\n",
       "  <table class='frame'>\n",
       "  <thead>\n",
       "    <tr class='colnames'><td class='row_index'></td><th>A</th><th>B</th><th>C</th></tr>\n",
       "    <tr class='coltypes'><td class='row_index'></td><td class='str' title='str32'>&#x25AA;&#x25AA;&#x25AA;&#x25AA;</td><td class='int' title='int32'>&#x25AA;&#x25AA;&#x25AA;&#x25AA;</td><td class='int' title='int32'>&#x25AA;&#x25AA;&#x25AA;&#x25AA;</td></tr>\n",
       "  </thead>\n",
       "  <tbody>\n",
       "    <tr><td class='row_index'>0</td><td>a</td><td>1</td><td>2</td></tr>\n",
       "    <tr><td class='row_index'>1</td><td>b</td><td>3</td><td>4</td></tr>\n",
       "    <tr><td class='row_index'>2</td><td>c</td><td>5</td><td>6</td></tr>\n",
       "  </tbody>\n",
       "  </table>\n",
       "  <div class='footer'>\n",
       "    <div class='frame_dimensions'>3 rows &times; 3 columns</div>\n",
       "  </div>\n",
       "</div>\n"
      ],
      "text/plain": [
       "<Frame#111b9fba0 3x3>"
      ]
     },
     "execution_count": 37,
     "metadata": {},
     "output_type": "execute_result"
    }
   ],
   "source": [
    "DT = dt.Frame([{'A': 'a', 'B': 1, 'C': 2},\n",
    " {'A': 'b', 'B': 3, 'C': 4},\n",
    " {'A': 'c', 'B': 5, 'C': 6}])\n",
    "\n",
    "DT"
   ]
  },
  {
   "cell_type": "code",
   "execution_count": 38,
   "metadata": {},
   "outputs": [
    {
     "data": {
      "text/html": [
       "<div class='datatable'>\n",
       "  <table class='frame'>\n",
       "  <thead>\n",
       "    <tr class='colnames'><td class='row_index'></td><th>A</th><th>variable</th><th>value</th></tr>\n",
       "    <tr class='coltypes'><td class='row_index'></td><td class='str' title='str32'>&#x25AA;&#x25AA;&#x25AA;&#x25AA;</td><td class='str' title='str32'>&#x25AA;&#x25AA;&#x25AA;&#x25AA;</td><td class='int' title='int32'>&#x25AA;&#x25AA;&#x25AA;&#x25AA;</td></tr>\n",
       "  </thead>\n",
       "  <tbody>\n",
       "    <tr><td class='row_index'>0</td><td>a</td><td>B</td><td>1</td></tr>\n",
       "    <tr><td class='row_index'>1</td><td>b</td><td>B</td><td>3</td></tr>\n",
       "    <tr><td class='row_index'>2</td><td>c</td><td>B</td><td>5</td></tr>\n",
       "  </tbody>\n",
       "  </table>\n",
       "  <div class='footer'>\n",
       "    <div class='frame_dimensions'>3 rows &times; 3 columns</div>\n",
       "  </div>\n",
       "</div>\n"
      ],
      "text/plain": [
       "<Frame#111be65d0 3x3>"
      ]
     },
     "execution_count": 38,
     "metadata": {},
     "output_type": "execute_result"
    }
   ],
   "source": [
    "melt(DT, id_vars='A', measure_vars='B')"
   ]
  },
  {
   "cell_type": "code",
   "execution_count": 39,
   "metadata": {},
   "outputs": [
    {
     "data": {
      "text/html": [
       "<div class='datatable'>\n",
       "  <table class='frame'>\n",
       "  <thead>\n",
       "    <tr class='colnames'><td class='row_index'></td><th>A</th><th>variable</th><th>value</th></tr>\n",
       "    <tr class='coltypes'><td class='row_index'></td><td class='str' title='str32'>&#x25AA;&#x25AA;&#x25AA;&#x25AA;</td><td class='str' title='str32'>&#x25AA;&#x25AA;&#x25AA;&#x25AA;</td><td class='int' title='int32'>&#x25AA;&#x25AA;&#x25AA;&#x25AA;</td></tr>\n",
       "  </thead>\n",
       "  <tbody>\n",
       "    <tr><td class='row_index'>0</td><td>a</td><td>B</td><td>1</td></tr>\n",
       "    <tr><td class='row_index'>1</td><td>b</td><td>B</td><td>3</td></tr>\n",
       "    <tr><td class='row_index'>2</td><td>c</td><td>B</td><td>5</td></tr>\n",
       "    <tr><td class='row_index'>3</td><td>a</td><td>C</td><td>2</td></tr>\n",
       "    <tr><td class='row_index'>4</td><td>b</td><td>C</td><td>4</td></tr>\n",
       "    <tr><td class='row_index'>5</td><td>c</td><td>C</td><td>6</td></tr>\n",
       "  </tbody>\n",
       "  </table>\n",
       "  <div class='footer'>\n",
       "    <div class='frame_dimensions'>6 rows &times; 3 columns</div>\n",
       "  </div>\n",
       "</div>\n"
      ],
      "text/plain": [
       "<Frame#115478960 6x3>"
      ]
     },
     "execution_count": 39,
     "metadata": {},
     "output_type": "execute_result"
    }
   ],
   "source": [
    "melt(DT, id_vars='A', measure_vars=['B', 'C'])"
   ]
  },
  {
   "cell_type": "code",
   "execution_count": 40,
   "metadata": {},
   "outputs": [
    {
     "data": {
      "text/html": [
       "<div class='datatable'>\n",
       "  <table class='frame'>\n",
       "  <thead>\n",
       "    <tr class='colnames'><td class='row_index'></td><th>A</th><th>myVarname</th><th>myValname</th></tr>\n",
       "    <tr class='coltypes'><td class='row_index'></td><td class='str' title='str32'>&#x25AA;&#x25AA;&#x25AA;&#x25AA;</td><td class='str' title='str32'>&#x25AA;&#x25AA;&#x25AA;&#x25AA;</td><td class='int' title='int32'>&#x25AA;&#x25AA;&#x25AA;&#x25AA;</td></tr>\n",
       "  </thead>\n",
       "  <tbody>\n",
       "    <tr><td class='row_index'>0</td><td>a</td><td>B</td><td>1</td></tr>\n",
       "    <tr><td class='row_index'>1</td><td>b</td><td>B</td><td>3</td></tr>\n",
       "    <tr><td class='row_index'>2</td><td>c</td><td>B</td><td>5</td></tr>\n",
       "  </tbody>\n",
       "  </table>\n",
       "  <div class='footer'>\n",
       "    <div class='frame_dimensions'>3 rows &times; 3 columns</div>\n",
       "  </div>\n",
       "</div>\n"
      ],
      "text/plain": [
       "<Frame#115476ae0 3x3>"
      ]
     },
     "execution_count": 40,
     "metadata": {},
     "output_type": "execute_result"
    }
   ],
   "source": [
    "melt(DT, id_vars='A', measure_vars='B', variable_name='myVarname', value_name='myValname')"
   ]
  },
  {
   "cell_type": "code",
   "execution_count": 41,
   "metadata": {},
   "outputs": [
    {
     "data": {
      "text/html": [
       "<div class='datatable'>\n",
       "  <table class='frame'>\n",
       "  <thead>\n",
       "    <tr class='colnames'><td class='row_index'></td><th>Name</th><th>Math</th><th>English</th><th>Age</th></tr>\n",
       "    <tr class='coltypes'><td class='row_index'></td><td class='str' title='str32'>&#x25AA;&#x25AA;&#x25AA;&#x25AA;</td><td class='str' title='str32'>&#x25AA;&#x25AA;&#x25AA;&#x25AA;</td><td class='str' title='str32'>&#x25AA;&#x25AA;&#x25AA;&#x25AA;</td><td class='int' title='int32'>&#x25AA;&#x25AA;&#x25AA;&#x25AA;</td></tr>\n",
       "  </thead>\n",
       "  <tbody>\n",
       "    <tr><td class='row_index'>0</td><td>Bob</td><td>A+</td><td>C</td><td>13</td></tr>\n",
       "    <tr><td class='row_index'>1</td><td>John</td><td>B</td><td>B</td><td>16</td></tr>\n",
       "    <tr><td class='row_index'>2</td><td>Foo</td><td>A</td><td>B</td><td>16</td></tr>\n",
       "    <tr><td class='row_index'>3</td><td>Bar</td><td>F</td><td>A+</td><td>15</td></tr>\n",
       "    <tr><td class='row_index'>4</td><td>Alex</td><td>D</td><td>F</td><td>15</td></tr>\n",
       "    <tr><td class='row_index'>5</td><td>Tom</td><td>C</td><td>A</td><td>13</td></tr>\n",
       "  </tbody>\n",
       "  </table>\n",
       "  <div class='footer'>\n",
       "    <div class='frame_dimensions'>6 rows &times; 4 columns</div>\n",
       "  </div>\n",
       "</div>\n"
      ],
      "text/plain": [
       "<Frame#11546f5a0 6x4>"
      ]
     },
     "execution_count": 41,
     "metadata": {},
     "output_type": "execute_result"
    }
   ],
   "source": [
    "DT = dt.Frame({'Name': ['Bob', 'John', 'Foo', 'Bar', 'Alex', 'Tom'], \n",
    "                   'Math': ['A+', 'B', 'A', 'F', 'D', 'C'], \n",
    "                   'English': ['C', 'B', 'B', 'A+', 'F', 'A'],\n",
    "                   'Age': [13, 16, 16, 15, 15, 13]})\n",
    "\n",
    "DT"
   ]
  },
  {
   "cell_type": "code",
   "execution_count": 42,
   "metadata": {},
   "outputs": [
    {
     "data": {
      "text/html": [
       "<div class='datatable'>\n",
       "  <table class='frame'>\n",
       "  <thead>\n",
       "    <tr class='colnames'><td class='row_index'></td><th>Name</th><th>Age</th><th>Subject</th><th>Grade</th></tr>\n",
       "    <tr class='coltypes'><td class='row_index'></td><td class='str' title='str32'>&#x25AA;&#x25AA;&#x25AA;&#x25AA;</td><td class='int' title='int32'>&#x25AA;&#x25AA;&#x25AA;&#x25AA;</td><td class='str' title='str32'>&#x25AA;&#x25AA;&#x25AA;&#x25AA;</td><td class='str' title='str32'>&#x25AA;&#x25AA;&#x25AA;&#x25AA;</td></tr>\n",
       "  </thead>\n",
       "  <tbody>\n",
       "    <tr><td class='row_index'>0</td><td>Bob</td><td>13</td><td>Math</td><td>A+</td></tr>\n",
       "    <tr><td class='row_index'>1</td><td>John</td><td>16</td><td>Math</td><td>B</td></tr>\n",
       "    <tr><td class='row_index'>2</td><td>Foo</td><td>16</td><td>Math</td><td>A</td></tr>\n",
       "    <tr><td class='row_index'>3</td><td>Bar</td><td>15</td><td>Math</td><td>F</td></tr>\n",
       "    <tr><td class='row_index'>4</td><td>Alex</td><td>15</td><td>Math</td><td>D</td></tr>\n",
       "    <tr><td class='row_index'>5</td><td>Tom</td><td>13</td><td>Math</td><td>C</td></tr>\n",
       "    <tr><td class='row_index'>6</td><td>Bob</td><td>13</td><td>English</td><td>C</td></tr>\n",
       "    <tr><td class='row_index'>7</td><td>John</td><td>16</td><td>English</td><td>B</td></tr>\n",
       "    <tr><td class='row_index'>8</td><td>Foo</td><td>16</td><td>English</td><td>B</td></tr>\n",
       "    <tr><td class='row_index'>9</td><td>Bar</td><td>15</td><td>English</td><td>A+</td></tr>\n",
       "    <tr><td class='row_index'>10</td><td>Alex</td><td>15</td><td>English</td><td>F</td></tr>\n",
       "    <tr><td class='row_index'>11</td><td>Tom</td><td>13</td><td>English</td><td>A</td></tr>\n",
       "  </tbody>\n",
       "  </table>\n",
       "  <div class='footer'>\n",
       "    <div class='frame_dimensions'>12 rows &times; 4 columns</div>\n",
       "  </div>\n",
       "</div>\n"
      ],
      "text/plain": [
       "<Frame#11546f510 12x4>"
      ]
     },
     "execution_count": 42,
     "metadata": {},
     "output_type": "execute_result"
    }
   ],
   "source": [
    "melt(DT, id_vars = ['Name', 'Age'], measure_vars=['Math', 'English'], variable_name='Subject', value_name='Grade')"
   ]
  },
  {
   "cell_type": "code",
   "execution_count": 43,
   "metadata": {},
   "outputs": [
    {
     "data": {
      "text/html": [
       "<div class='datatable'>\n",
       "  <table class='frame'>\n",
       "  <thead>\n",
       "    <tr class='colnames'><td class='row_index'></td><th>asset1</th><th>asset2</th><th>A</th><th>D</th><th>E</th></tr>\n",
       "    <tr class='coltypes'><td class='row_index'></td><td class='str' title='str32'>&#x25AA;&#x25AA;&#x25AA;&#x25AA;</td><td class='int' title='int32'>&#x25AA;&#x25AA;&#x25AA;&#x25AA;</td><td class='int' title='int32'>&#x25AA;&#x25AA;&#x25AA;&#x25AA;</td><td class='int' title='int32'>&#x25AA;&#x25AA;&#x25AA;&#x25AA;</td><td class='int' title='int32'>&#x25AA;&#x25AA;&#x25AA;&#x25AA;</td></tr>\n",
       "  </thead>\n",
       "  <tbody>\n",
       "    <tr><td class='row_index'>0</td><td>a</td><td>4</td><td>7</td><td>1</td><td>5</td></tr>\n",
       "    <tr><td class='row_index'>1</td><td>c</td><td>4</td><td>8</td><td>3</td><td>3</td></tr>\n",
       "    <tr><td class='row_index'>2</td><td>a</td><td>4</td><td>9</td><td>5</td><td>6</td></tr>\n",
       "    <tr><td class='row_index'>3</td><td>c</td><td>4</td><td>4</td><td>7</td><td>9</td></tr>\n",
       "    <tr><td class='row_index'>4</td><td>a</td><td>4</td><td>2</td><td>1</td><td>2</td></tr>\n",
       "    <tr><td class='row_index'>5</td><td>c</td><td>4</td><td>3</td><td>0</td><td>4</td></tr>\n",
       "  </tbody>\n",
       "  </table>\n",
       "  <div class='footer'>\n",
       "    <div class='frame_dimensions'>6 rows &times; 5 columns</div>\n",
       "  </div>\n",
       "</div>\n"
      ],
      "text/plain": [
       "<Frame#115476ba0 6x5>"
      ]
     },
     "execution_count": 43,
     "metadata": {},
     "output_type": "execute_result"
    }
   ],
   "source": [
    "DT = dt.Frame({\n",
    "        'asset1':list('acacac'),\n",
    "         'asset2':[4]*6,\n",
    "         'A':[7,8,9,4,2,3],\n",
    "         'D':[1,3,5,7,1,0],\n",
    "         'E':[5,3,6,9,2,4]\n",
    "})\n",
    "\n",
    "DT"
   ]
  },
  {
   "cell_type": "code",
   "execution_count": 44,
   "metadata": {},
   "outputs": [
    {
     "data": {
      "text/html": [
       "<div class='datatable'>\n",
       "  <table class='frame'>\n",
       "  <thead>\n",
       "    <tr class='colnames'><td class='row_index'></td><th>asset1</th><th>asset2</th><th>c_name</th><th>Value</th></tr>\n",
       "    <tr class='coltypes'><td class='row_index'></td><td class='str' title='str32'>&#x25AA;&#x25AA;&#x25AA;&#x25AA;</td><td class='int' title='int32'>&#x25AA;&#x25AA;&#x25AA;&#x25AA;</td><td class='str' title='str32'>&#x25AA;&#x25AA;&#x25AA;&#x25AA;</td><td class='int' title='int32'>&#x25AA;&#x25AA;&#x25AA;&#x25AA;</td></tr>\n",
       "  </thead>\n",
       "  <tbody>\n",
       "    <tr><td class='row_index'>0</td><td>a</td><td>4</td><td>A</td><td>7</td></tr>\n",
       "    <tr><td class='row_index'>1</td><td>c</td><td>4</td><td>A</td><td>8</td></tr>\n",
       "    <tr><td class='row_index'>2</td><td>a</td><td>4</td><td>A</td><td>9</td></tr>\n",
       "    <tr><td class='row_index'>3</td><td>c</td><td>4</td><td>A</td><td>4</td></tr>\n",
       "    <tr><td class='row_index'>4</td><td>a</td><td>4</td><td>A</td><td>2</td></tr>\n",
       "    <tr><td class='row_index'>5</td><td>c</td><td>4</td><td>A</td><td>3</td></tr>\n",
       "    <tr><td class='row_index'>6</td><td>a</td><td>4</td><td>D</td><td>1</td></tr>\n",
       "    <tr><td class='row_index'>7</td><td>c</td><td>4</td><td>D</td><td>3</td></tr>\n",
       "    <tr><td class='row_index'>8</td><td>a</td><td>4</td><td>D</td><td>5</td></tr>\n",
       "    <tr><td class='row_index'>9</td><td>c</td><td>4</td><td>D</td><td>7</td></tr>\n",
       "    <tr><td class='row_index'>10</td><td>a</td><td>4</td><td>D</td><td>1</td></tr>\n",
       "    <tr><td class='row_index'>11</td><td>c</td><td>4</td><td>D</td><td>0</td></tr>\n",
       "  </tbody>\n",
       "  </table>\n",
       "  <div class='footer'>\n",
       "    <div class='frame_dimensions'>12 rows &times; 4 columns</div>\n",
       "  </div>\n",
       "</div>\n"
      ],
      "text/plain": [
       "<Frame#115468690 12x4>"
      ]
     },
     "execution_count": 44,
     "metadata": {},
     "output_type": "execute_result"
    }
   ],
   "source": [
    "melt(DT, id_vars=['asset1', 'asset2'], measure_vars = ['A', 'D'], variable_name='c_name', value_name='Value')"
   ]
  },
  {
   "cell_type": "code",
   "execution_count": 45,
   "metadata": {},
   "outputs": [
    {
     "data": {
      "text/html": [
       "<div class='datatable'>\n",
       "  <table class='frame'>\n",
       "  <thead>\n",
       "    <tr class='colnames'><td class='row_index'></td><th>New York</th></tr>\n",
       "    <tr class='coltypes'><td class='row_index'></td><td class='int' title='int32'>&#x25AA;&#x25AA;&#x25AA;&#x25AA;</td></tr>\n",
       "  </thead>\n",
       "  <tbody>\n",
       "    <tr><td class='row_index'>0</td><td>25</td></tr>\n",
       "  </tbody>\n",
       "  </table>\n",
       "  <div class='footer'>\n",
       "    <div class='frame_dimensions'>1 row &times; 1 column</div>\n",
       "  </div>\n",
       "</div>\n"
      ],
      "text/plain": [
       "<Frame#111bbbed0 1x1>"
      ]
     },
     "execution_count": 45,
     "metadata": {},
     "output_type": "execute_result"
    }
   ],
   "source": [
    "DT = dt.Frame({'New York': [25]})\n",
    "\n",
    "DT"
   ]
  },
  {
   "cell_type": "code",
   "execution_count": 46,
   "metadata": {},
   "outputs": [
    {
     "data": {
      "text/html": [
       "<div class='datatable'>\n",
       "  <table class='frame'>\n",
       "  <thead>\n",
       "    <tr class='colnames'><td class='row_index'></td><th>variable</th><th>value</th></tr>\n",
       "    <tr class='coltypes'><td class='row_index'></td><td class='str' title='str32'>&#x25AA;&#x25AA;&#x25AA;&#x25AA;</td><td class='int' title='int32'>&#x25AA;&#x25AA;&#x25AA;&#x25AA;</td></tr>\n",
       "  </thead>\n",
       "  <tbody>\n",
       "    <tr><td class='row_index'>0</td><td>New York</td><td>25</td></tr>\n",
       "  </tbody>\n",
       "  </table>\n",
       "  <div class='footer'>\n",
       "    <div class='frame_dimensions'>1 row &times; 2 columns</div>\n",
       "  </div>\n",
       "</div>\n"
      ],
      "text/plain": [
       "<Frame#115451750 1x2>"
      ]
     },
     "execution_count": 46,
     "metadata": {},
     "output_type": "execute_result"
    }
   ],
   "source": [
    "melt(DT)"
   ]
  },
  {
   "cell_type": "code",
   "execution_count": 47,
   "metadata": {},
   "outputs": [
    {
     "data": {
      "text/html": [
       "<div class='datatable'>\n",
       "  <table class='frame'>\n",
       "  <thead>\n",
       "    <tr class='colnames'><td class='row_index'></td><th>variable</th><th>value</th></tr>\n",
       "    <tr class='coltypes'><td class='row_index'></td><td class='str' title='str32'>&#x25AA;&#x25AA;&#x25AA;&#x25AA;</td><td class='int' title='int32'>&#x25AA;&#x25AA;&#x25AA;&#x25AA;</td></tr>\n",
       "  </thead>\n",
       "  <tbody>\n",
       "    <tr><td class='row_index'>0</td><td>New york</td><td>25</td></tr>\n",
       "    <tr><td class='row_index'>1</td><td>Paris</td><td>27</td></tr>\n",
       "    <tr><td class='row_index'>2</td><td>London</td><td>30</td></tr>\n",
       "  </tbody>\n",
       "  </table>\n",
       "  <div class='footer'>\n",
       "    <div class='frame_dimensions'>3 rows &times; 2 columns</div>\n",
       "  </div>\n",
       "</div>\n"
      ],
      "text/plain": [
       "<Frame#115451cc0 3x2>"
      ]
     },
     "execution_count": 47,
     "metadata": {},
     "output_type": "execute_result"
    }
   ],
   "source": [
    "DT = dt.Frame({'New york': [25], 'Paris': [27], 'London': [30]})\n",
    "\n",
    "melt(DT)"
   ]
  },
  {
   "cell_type": "code",
   "execution_count": 48,
   "metadata": {},
   "outputs": [
    {
     "data": {
      "text/html": [
       "<div class='datatable'>\n",
       "  <table class='frame'>\n",
       "  <thead>\n",
       "    <tr class='colnames'><td class='row_index'></td><th>city</th><th>variable</th><th>value</th></tr>\n",
       "    <tr class='coltypes'><td class='row_index'></td><td class='str' title='str32'>&#x25AA;&#x25AA;&#x25AA;&#x25AA;</td><td class='str' title='str32'>&#x25AA;&#x25AA;&#x25AA;&#x25AA;</td><td class='int' title='int32'>&#x25AA;&#x25AA;&#x25AA;&#x25AA;</td></tr>\n",
       "  </thead>\n",
       "  <tbody>\n",
       "    <tr><td class='row_index'>0</td><td>New York</td><td>day1</td><td>23</td></tr>\n",
       "    <tr><td class='row_index'>1</td><td>London</td><td>day1</td><td>25</td></tr>\n",
       "    <tr><td class='row_index'>2</td><td>Paris</td><td>day1</td><td>27</td></tr>\n",
       "    <tr><td class='row_index'>3</td><td>Berlin</td><td>day1</td><td>26</td></tr>\n",
       "    <tr><td class='row_index'>4</td><td>Amsterdam</td><td>day1</td><td>24</td></tr>\n",
       "    <tr><td class='row_index'>5</td><td>New York</td><td>day2</td><td>22</td></tr>\n",
       "    <tr><td class='row_index'>6</td><td>London</td><td>day2</td><td>21</td></tr>\n",
       "    <tr><td class='row_index'>7</td><td>Paris</td><td>day2</td><td>25</td></tr>\n",
       "    <tr><td class='row_index'>8</td><td>Berlin</td><td>day2</td><td>26</td></tr>\n",
       "    <tr><td class='row_index'>9</td><td>Amsterdam</td><td>day2</td><td>23</td></tr>\n",
       "    <tr><td class='row_index'>10</td><td>New York</td><td>day3</td><td>26</td></tr>\n",
       "    <tr><td class='row_index'>11</td><td>London</td><td>day3</td><td>25</td></tr>\n",
       "    <tr><td class='row_index'>12</td><td>Paris</td><td>day3</td><td>24</td></tr>\n",
       "    <tr><td class='row_index'>13</td><td>Berlin</td><td>day3</td><td>27</td></tr>\n",
       "    <tr><td class='row_index'>14</td><td>Amsterdam</td><td>day3</td><td>23</td></tr>\n",
       "    <tr><td class='row_index'>15</td><td>New York</td><td>day4</td><td>23</td></tr>\n",
       "    <tr><td class='row_index'>16</td><td>London</td><td>day4</td><td>21</td></tr>\n",
       "    <tr><td class='row_index'>17</td><td>Paris</td><td>day4</td><td>22</td></tr>\n",
       "    <tr><td class='row_index'>18</td><td>Berlin</td><td>day4</td><td>26</td></tr>\n",
       "    <tr><td class='row_index'>19</td><td>Amsterdam</td><td>day4</td><td>27</td></tr>\n",
       "    <tr><td class='row_index'>20</td><td>New York</td><td>day5</td><td>27</td></tr>\n",
       "    <tr><td class='row_index'>21</td><td>London</td><td>day5</td><td>26</td></tr>\n",
       "    <tr><td class='row_index'>22</td><td>Paris</td><td>day5</td><td>27</td></tr>\n",
       "    <tr><td class='row_index'>23</td><td>Berlin</td><td>day5</td><td>24</td></tr>\n",
       "    <tr><td class='row_index'>24</td><td>Amsterdam</td><td>day5</td><td>28</td></tr>\n",
       "  </tbody>\n",
       "  </table>\n",
       "  <div class='footer'>\n",
       "    <div class='frame_dimensions'>25 rows &times; 3 columns</div>\n",
       "  </div>\n",
       "</div>\n"
      ],
      "text/plain": [
       "<Frame#11546fde0 25x3>"
      ]
     },
     "execution_count": 48,
     "metadata": {},
     "output_type": "execute_result"
    }
   ],
   "source": [
    "temperatures = dt.Frame({\n",
    "    'city': ['New York', 'London', 'Paris', 'Berlin', 'Amsterdam'],\n",
    "    'day1': [23, 25, 27, 26, 24],\n",
    "    'day2': [22, 21, 25, 26, 23],\n",
    "    'day3': [26, 25, 24, 27, 23],\n",
    "    'day4': [23, 21, 22, 26, 27],\n",
    "    'day5': [27, 26, 27, 24, 28]\n",
    "})\n",
    "\n",
    "melt(temperatures, id_vars = 'city')"
   ]
  },
  {
   "cell_type": "code",
   "execution_count": 49,
   "metadata": {},
   "outputs": [
    {
     "data": {
      "text/html": [
       "<div class='datatable'>\n",
       "  <table class='frame'>\n",
       "  <thead>\n",
       "    <tr class='colnames'><td class='row_index'></td><th>variable</th><th>value</th></tr>\n",
       "    <tr class='coltypes'><td class='row_index'></td><td class='str' title='str32'>&#x25AA;&#x25AA;&#x25AA;&#x25AA;</td><td class='str' title='str32'>&#x25AA;&#x25AA;&#x25AA;&#x25AA;</td></tr>\n",
       "  </thead>\n",
       "  <tbody>\n",
       "    <tr><td class='row_index'>0</td><td>city</td><td>New York</td></tr>\n",
       "    <tr><td class='row_index'>1</td><td>city</td><td>London</td></tr>\n",
       "    <tr><td class='row_index'>2</td><td>city</td><td>Paris</td></tr>\n",
       "    <tr><td class='row_index'>3</td><td>city</td><td>Berlin</td></tr>\n",
       "    <tr><td class='row_index'>4</td><td>city</td><td>Amsterdam</td></tr>\n",
       "    <tr><td class='row_index'>5</td><td>day1</td><td>23</td></tr>\n",
       "    <tr><td class='row_index'>6</td><td>day1</td><td>25</td></tr>\n",
       "    <tr><td class='row_index'>7</td><td>day1</td><td>27</td></tr>\n",
       "    <tr><td class='row_index'>8</td><td>day1</td><td>26</td></tr>\n",
       "    <tr><td class='row_index'>9</td><td>day1</td><td>24</td></tr>\n",
       "    <tr><td class='row_index'>10</td><td>day2</td><td>22</td></tr>\n",
       "    <tr><td class='row_index'>11</td><td>day2</td><td>21</td></tr>\n",
       "    <tr><td class='row_index'>12</td><td>day2</td><td>25</td></tr>\n",
       "    <tr><td class='row_index'>13</td><td>day2</td><td>26</td></tr>\n",
       "    <tr><td class='row_index'>14</td><td>day2</td><td>23</td></tr>\n",
       "    <tr><td class='row_index'>15</td><td>day3</td><td>26</td></tr>\n",
       "    <tr><td class='row_index'>16</td><td>day3</td><td>25</td></tr>\n",
       "    <tr><td class='row_index'>17</td><td>day3</td><td>24</td></tr>\n",
       "    <tr><td class='row_index'>18</td><td>day3</td><td>27</td></tr>\n",
       "    <tr><td class='row_index'>19</td><td>day3</td><td>23</td></tr>\n",
       "    <tr><td class='row_index'>20</td><td>day4</td><td>23</td></tr>\n",
       "    <tr><td class='row_index'>21</td><td>day4</td><td>21</td></tr>\n",
       "    <tr><td class='row_index'>22</td><td>day4</td><td>22</td></tr>\n",
       "    <tr><td class='row_index'>23</td><td>day4</td><td>26</td></tr>\n",
       "    <tr><td class='row_index'>24</td><td>day4</td><td>27</td></tr>\n",
       "    <tr><td class='row_index'>25</td><td>day5</td><td>27</td></tr>\n",
       "    <tr><td class='row_index'>26</td><td>day5</td><td>26</td></tr>\n",
       "    <tr><td class='row_index'>27</td><td>day5</td><td>27</td></tr>\n",
       "    <tr><td class='row_index'>28</td><td>day5</td><td>24</td></tr>\n",
       "    <tr><td class='row_index'>29</td><td>day5</td><td>28</td></tr>\n",
       "  </tbody>\n",
       "  </table>\n",
       "  <div class='footer'>\n",
       "    <div class='frame_dimensions'>30 rows &times; 2 columns</div>\n",
       "  </div>\n",
       "</div>\n"
      ],
      "text/plain": [
       "<Frame#11546fc30 30x2>"
      ]
     },
     "execution_count": 49,
     "metadata": {},
     "output_type": "execute_result"
    }
   ],
   "source": [
    "melt(temperatures)"
   ]
  },
  {
   "cell_type": "code",
   "execution_count": 50,
   "metadata": {},
   "outputs": [
    {
     "data": {
      "text/html": [
       "<div class='datatable'>\n",
       "  <table class='frame'>\n",
       "  <thead>\n",
       "    <tr class='colnames'><td class='row_index'></td><th>country</th><th>vault_2012_f</th><th>vault_2012_m</th><th>vault_2016_f</th><th>vault_2016_m</th><th>floor_2012_f</th><th>floor_2012_m</th><th>floor_2016_f</th><th>floor_2016_m</th></tr>\n",
       "    <tr class='coltypes'><td class='row_index'></td><td class='str' title='str32'>&#x25AA;&#x25AA;&#x25AA;&#x25AA;</td><td class='float' title='float64'>&#x25AA;&#x25AA;&#x25AA;&#x25AA;&#x25AA;&#x25AA;&#x25AA;&#x25AA;</td><td class='float' title='float64'>&#x25AA;&#x25AA;&#x25AA;&#x25AA;&#x25AA;&#x25AA;&#x25AA;&#x25AA;</td><td class='float' title='float64'>&#x25AA;&#x25AA;&#x25AA;&#x25AA;&#x25AA;&#x25AA;&#x25AA;&#x25AA;</td><td class='float' title='float64'>&#x25AA;&#x25AA;&#x25AA;&#x25AA;&#x25AA;&#x25AA;&#x25AA;&#x25AA;</td><td class='float' title='float64'>&#x25AA;&#x25AA;&#x25AA;&#x25AA;&#x25AA;&#x25AA;&#x25AA;&#x25AA;</td><td class='float' title='float64'>&#x25AA;&#x25AA;&#x25AA;&#x25AA;&#x25AA;&#x25AA;&#x25AA;&#x25AA;</td><td class='float' title='float64'>&#x25AA;&#x25AA;&#x25AA;&#x25AA;&#x25AA;&#x25AA;&#x25AA;&#x25AA;</td><td class='float' title='float64'>&#x25AA;&#x25AA;&#x25AA;&#x25AA;&#x25AA;&#x25AA;&#x25AA;&#x25AA;</td></tr>\n",
       "  </thead>\n",
       "  <tbody>\n",
       "    <tr><td class='row_index'>0</td><td>United States</td><td>48.132</td><td>46.632</td><td>46.866</td><td>45.865</td><td>45.366</td><td>45.266</td><td>45.999</td><td>43.757</td></tr>\n",
       "    <tr><td class='row_index'>1</td><td>Russia</td><td>46.366</td><td>46.866</td><td>45.733</td><td>46.033</td><td>41.599</td><td>45.308</td><td>42.032</td><td>44.766</td></tr>\n",
       "    <tr><td class='row_index'>2</td><td>China</td><td>44.266</td><td>48.316</td><td>44.332</td><td>45</td><td>40.833</td><td>45.133</td><td>42.066</td><td>43.799</td></tr>\n",
       "  </tbody>\n",
       "  </table>\n",
       "  <div class='footer'>\n",
       "    <div class='frame_dimensions'>3 rows &times; 9 columns</div>\n",
       "  </div>\n",
       "</div>\n"
      ],
      "text/plain": [
       "<Frame#115476de0 3x9>"
      ]
     },
     "execution_count": 50,
     "metadata": {},
     "output_type": "execute_result"
    }
   ],
   "source": [
    "DT = dt.Frame(\n",
    "            {\n",
    "                \"country\": [\"United States\", \"Russia\", \"China\"],\n",
    "                \"vault_2012_f\": [\n",
    "                    48.132,\n",
    "                    46.366,\n",
    "                    44.266,\n",
    "                ],\n",
    "                \"vault_2012_m\": [46.632, 46.866, 48.316],\n",
    "                \"vault_2016_f\": [\n",
    "                    46.866,\n",
    "                    45.733,\n",
    "                    44.332,\n",
    "                ],\n",
    "                \"vault_2016_m\": [45.865, 46.033, 45.0],\n",
    "                \"floor_2012_f\": [45.366, 41.599, 40.833],\n",
    "                \"floor_2012_m\": [45.266, 45.308, 45.133],\n",
    "                \"floor_2016_f\": [45.999, 42.032, 42.066],\n",
    "                \"floor_2016_m\": [43.757, 44.766, 43.799],\n",
    "            }\n",
    "        )\n",
    "\n",
    "DT"
   ]
  }
 ],
 "metadata": {
  "interpreter": {
   "hash": "add37180bd4da562a0eaf8c3e0a5d137c988d539d139a9aa2fdf5004dd438228"
  },
  "kernelspec": {
   "display_name": "Python 3.9.6 64-bit ('dev': conda)",
   "name": "python3"
  },
  "language_info": {
   "codemirror_mode": {
    "name": "ipython",
    "version": 3
   },
   "file_extension": ".py",
   "mimetype": "text/x-python",
   "name": "python",
   "nbconvert_exporter": "python",
   "pygments_lexer": "ipython3",
   "version": "3.9.10"
  }
 },
 "nbformat": 4,
 "nbformat_minor": 4
}